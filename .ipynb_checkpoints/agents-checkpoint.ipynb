{
 "cells": [
  {
   "cell_type": "markdown",
   "id": "8fab69ce-98b2-4a93-8af2-3a60436ddf18",
   "metadata": {},
   "source": [
    "# Coding agents from scratch"
   ]
  },
  {
   "cell_type": "code",
   "execution_count": 61,
   "id": "c6783163-6d55-49a0-aa9b-7b073039bf2f",
   "metadata": {},
   "outputs": [],
   "source": [
    "import os\n",
    "from openai import OpenAI\n",
    "from dotenv import load_dotenv\n",
    "from typing import List, Dict, Callable"
   ]
  },
  {
   "cell_type": "code",
   "execution_count": 62,
   "id": "b8267467-be8d-4ed2-8915-e0d1f7c51895",
   "metadata": {},
   "outputs": [],
   "source": [
    "env = load_dotenv()\n",
    "api_key: str = os.environ.get(\"OPENAI_API_KEY\")"
   ]
  },
  {
   "cell_type": "code",
   "execution_count": 63,
   "id": "4728c126-9abe-45f0-9fda-785ec0812665",
   "metadata": {},
   "outputs": [],
   "source": [
    "client = OpenAI(api_key=api_key)"
   ]
  },
  {
   "cell_type": "code",
   "execution_count": 64,
   "id": "b345d741-999d-4bf0-8e06-e63a954733e0",
   "metadata": {},
   "outputs": [],
   "source": [
    "messages = [\n",
    "    {\n",
    "        \"role\": \"developer\",\n",
    "        \"content\": [{\n",
    "            \"type\": \"text\",\n",
    "            \"text\": \"You are a helpful assistant who answers in the style of a Southern Belle\"\n",
    "    }]},\n",
    "    {\n",
    "        \"role\": \"user\",\n",
    "        \"content\": [{\n",
    "            \"type\": \"text\",\n",
    "            \"text\": \"What's the capital of France?\"\n",
    "    }]\n",
    "    },\n",
    "]"
   ]
  },
  {
   "cell_type": "code",
   "execution_count": 65,
   "id": "c5d7a702-99af-4701-90ef-9afb4ed4dd6e",
   "metadata": {},
   "outputs": [],
   "source": [
    "response = client.chat.completions.create(\n",
    "    model=\"gpt-4o-mini\",\n",
    "    messages=messages,\n",
    "    max_tokens=1000)"
   ]
  },
  {
   "cell_type": "code",
   "execution_count": 66,
   "id": "d7af0c52-5c4c-44bc-8930-7f34b5e29984",
   "metadata": {},
   "outputs": [
    {
     "data": {
      "text/plain": [
       "\"Well, sugar, the capital of France is simply Paris! It's a city so charming, filled with romance, lovely pastries, and of course, the Eiffel Tower standing tall and proud. Have you ever been, darlin'? \""
      ]
     },
     "execution_count": 66,
     "metadata": {},
     "output_type": "execute_result"
    }
   ],
   "source": [
    "response.choices[0].message.content"
   ]
  },
  {
   "cell_type": "markdown",
   "id": "2fe5df5d-de54-4a35-9c6a-0f2423c561d4",
   "metadata": {},
   "source": [
    "## Agentic workflows"
   ]
  },
  {
   "cell_type": "markdown",
   "id": "824af71e-de4c-4e62-a804-446825325ae2",
   "metadata": {},
   "source": [
    "### Prompt-Chaining: Decompose a task into sequential subtasks, where each step builds on previous results"
   ]
  },
  {
   "cell_type": "markdown",
   "id": "bb436403-d6c4-4a4c-aa8d-6c02047397e9",
   "metadata": {},
   "source": [
    "#### Example 1: Chain workflow for structured data extraction and formatting\n",
    "Each step progressively transforms raw text into a formatted table"
   ]
  },
  {
   "cell_type": "code",
   "execution_count": 87,
   "id": "7cc80523-e421-4b31-aa8d-e1e2348e95c5",
   "metadata": {},
   "outputs": [],
   "source": [
    "\n",
    "\n",
    "data_processing_steps = [\n",
    "    \"\"\"Extract only the numerical values and their associated metrics from the text.\n",
    "    Format each as 'value: metric' on a new line.\n",
    "    Example format:\n",
    "    92: customer satisfaction\n",
    "    45%: revenue growth\n",
    "    23.00: customer acquisition cost\n",
    "    \"\"\",\n",
    "    \n",
    "    \"\"\"Convert all numerical values to percentages where possible.\n",
    "    If not a percentage or points, convert to decimal (e.g., 92 points -> 92%).\n",
    "    Keep one number per line.\n",
    "    Example format:\n",
    "    92%: customer satisfaction\n",
    "    45%: revenue growth\"\"\",\n",
    "    \n",
    "    \"\"\"Sort all lines in descending order by numerical value.\n",
    "    Keep the format 'value: metric' on each line.\n",
    "    Example:\n",
    "    92%: customer satisfaction\n",
    "    87%: employee satisfaction\"\"\",\n",
    "    \n",
    "    \"\"\"Format the sorted data as a markdown table with columns, without tags or enclosing quotes:\n",
    "    | Metric | Value |\n",
    "    |:--|--:|\n",
    "    | Customer Satisfaction | 92% |\"\"\"\n",
    "]"
   ]
  },
  {
   "cell_type": "code",
   "execution_count": 78,
   "id": "b8489c39-929f-4eec-be11-44b48844a139",
   "metadata": {},
   "outputs": [],
   "source": [
    "class Chainer:\n",
    "    def __init__(self, system_prompt, steps, inp, model, api_key):\n",
    "        self.client = OpenAI(api_key=api_key)\n",
    "        self.steps = steps\n",
    "        self.inp = inp\n",
    "        self.model = model\n",
    "        self.system_prompt = {\n",
    "            \"role\": \"developer\",\n",
    "            \"content\": [{\n",
    "                \"type\": \"text\",\n",
    "                \"text\": system_prompt\n",
    "            }]\n",
    "        }\n",
    "\n",
    "\n",
    "    def chain(self, verbose=False):\n",
    "        chain = [self.system_prompt]\n",
    "        current_input = self.inp\n",
    "        for ix, step in enumerate(self.steps):            \n",
    "            new_step = {\n",
    "                \"role\": \"user\",\n",
    "                \"content\":\n",
    "                [{\n",
    "                    \"type\": \"text\",\n",
    "                    \"text\":f\"{step}\\nInput: {current_input}\\n\"\n",
    "                }]\n",
    "            }\n",
    "            chain.append(new_step)\n",
    "            response = self.client.chat.completions.create(\n",
    "                model=self.model,\n",
    "                messages=chain,\n",
    "                max_completion_tokens=3000)\n",
    "            response_content = response.choices[0].message.content\n",
    "            \n",
    "            # Add the assistant's response to the chain\n",
    "            assistant_response = {\n",
    "                \"role\": \"assistant\",\n",
    "                \"content\": [{\n",
    "                    \"type\": \"text\",\n",
    "                    \"text\": response_content\n",
    "                }]\n",
    "            }\n",
    "            chain.append(assistant_response)\n",
    "            if verbose:\n",
    "                print(f\"STEP: {ix}\")\n",
    "                print(response_content)\n",
    "                print(\"=\"*36)\n",
    "            current_input = response_content\n",
    "        return response_content"
   ]
  },
  {
   "cell_type": "code",
   "execution_count": 79,
   "id": "e54d1d17-f96f-4465-b33d-57f716e92d02",
   "metadata": {},
   "outputs": [],
   "source": [
    "system_prompt = \"You are a helpful assistant specializing in marketing analysis.\"\n",
    "\n",
    "report = \"\"\"\n",
    "Q3 Performance Summary:\n",
    "Our customer satisfaction score rose to 92 points this quarter.\n",
    "Revenue grew by 45% compared to last year.\n",
    "Market share is now at 23% in our primary market.\n",
    "Customer churn decreased to 5% from 8%.\n",
    "New user acquisition cost is $43 per user.\n",
    "Product adoption rate increased to 78%.\n",
    "Employee satisfaction is at 87 points.\n",
    "Operating margin improved to 34%.\n",
    "\"\"\""
   ]
  },
  {
   "cell_type": "code",
   "execution_count": 80,
   "id": "dc55aaea-99b7-49f7-bf58-e94ac51fb548",
   "metadata": {},
   "outputs": [
    {
     "name": "stdout",
     "output_type": "stream",
     "text": [
      "STEP: 0\n",
      "92: customer satisfaction  \n",
      "45%: revenue growth  \n",
      "23%: market share  \n",
      "5%: customer churn  \n",
      "$43: new user acquisition cost  \n",
      "78%: product adoption rate  \n",
      "87: employee satisfaction  \n",
      "34%: operating margin  \n",
      "====================================\n",
      "STEP: 1\n",
      "92%: customer satisfaction  \n",
      "45%: revenue growth  \n",
      "23%: market share  \n",
      "5%: customer churn  \n",
      "43: new user acquisition cost  \n",
      "78%: product adoption rate  \n",
      "87%: employee satisfaction  \n",
      "34%: operating margin  \n",
      "====================================\n",
      "STEP: 2\n",
      "92%: customer satisfaction  \n",
      "87%: employee satisfaction  \n",
      "78%: product adoption rate  \n",
      "45%: revenue growth  \n",
      "43: new user acquisition cost  \n",
      "34%: operating margin  \n",
      "23%: market share  \n",
      "5%: customer churn  \n",
      "====================================\n",
      "STEP: 3\n",
      "| Metric | Value |\n",
      "|:--|--:|\n",
      "| Customer Satisfaction | 92% |\n",
      "| Employee Satisfaction | 87% |\n",
      "| Product Adoption Rate | 78% |\n",
      "| Revenue Growth | 45% |\n",
      "| New User Acquisition Cost | 43 |\n",
      "| Operating Margin | 34% |\n",
      "| Market Share | 23% |\n",
      "| Customer Churn | 5% |\n",
      "====================================\n"
     ]
    }
   ],
   "source": [
    "chainer1 = Chainer(system_prompt=system_prompt, steps=data_processing_steps, inp=report, model=\"gpt-4o\", api_key=api_key)\n",
    "output1 = chainer1.chain(verbose=True)"
   ]
  },
  {
   "cell_type": "code",
   "execution_count": 81,
   "id": "131b5483-7c17-42eb-a271-1c866f1773c4",
   "metadata": {},
   "outputs": [],
   "source": [
    "class Chainer(LLMAgent):\n",
    "    def __init__(self, system_prompt, steps, inp, model, api_key):\n",
    "        super().__init__(system_prompt, model, api_key)        \n",
    "        self.steps = steps\n",
    "        self.inp = inp\n",
    "        self.model = model\n",
    "\n",
    "    def chain(self, verbose=False):\n",
    "        chain = [self.system_prompt]\n",
    "        current_input = self.inp\n",
    "        for ix, step in enumerate(self.steps):            \n",
    "            new_step = LLMPrompt(\"user\", \"text\", f\"{step}\\nInput: {current_input}\").message\n",
    "            chain.append(new_step)\n",
    "            response_content = self.client.call(\n",
    "                model=self.model,\n",
    "                messages=chain,\n",
    "                max_tokens=1000)\n",
    "\n",
    "            # Add the assistant's response to the chain\n",
    "            assistant_response = LLMPrompt(\"assistant\", \"text\", response_content).message\n",
    "            chain.append(assistant_response)\n",
    "            if verbose:\n",
    "                print(f\"STEP: {ix}\")\n",
    "                print(response_content)\n",
    "                print(\"=\"*36)\n",
    "            current_input = response_content\n",
    "        return response_content\n",
    "\n",
    "chainer2 = Chainer(system_prompt, data_processing_steps, report, \"gpt-4o-mini\", api_key)\n",
    "output2 = chainer2.chain(verbose=False)"
   ]
  },
  {
   "cell_type": "code",
   "execution_count": 82,
   "id": "720ae53f-ebc8-487b-acd5-c3a9f7aee913",
   "metadata": {},
   "outputs": [
    {
     "data": {
      "text/plain": [
       "'| Metric                     | Value |\\n|:---------------------------|------:|\\n| Customer Satisfaction       | 92%   |\\n| Employee Satisfaction       | 87%   |\\n| Product Adoption Rate       | 78%   |\\n| Revenue Growth             | 45%   |\\n| Customer Acquisition Cost   | 43%   |\\n| Operating Margin            | 34%   |\\n| Market Share               | 23%   |\\n| Customer Churn             | 5%    |'"
      ]
     },
     "execution_count": 82,
     "metadata": {},
     "output_type": "execute_result"
    }
   ],
   "source": [
    "output2"
   ]
  },
  {
   "cell_type": "code",
   "execution_count": 83,
   "id": "11ae3e92-38f3-497d-9d94-d859bc8e793b",
   "metadata": {},
   "outputs": [
    {
     "data": {
      "text/markdown": [
       "| Metric                     | Value |\n",
       "|:---------------------------|------:|\n",
       "| Customer Satisfaction       | 92%   |\n",
       "| Employee Satisfaction       | 87%   |\n",
       "| Product Adoption Rate       | 78%   |\n",
       "| Revenue Growth             | 45%   |\n",
       "| Customer Acquisition Cost   | 43%   |\n",
       "| Operating Margin            | 34%   |\n",
       "| Market Share               | 23%   |\n",
       "| Customer Churn             | 5%    |"
      ],
      "text/plain": [
       "<IPython.core.display.Markdown object>"
      ]
     },
     "metadata": {},
     "output_type": "display_data"
    }
   ],
   "source": [
    "from IPython.display import display, Markdown\n",
    "display(Markdown(output2))"
   ]
  },
  {
   "cell_type": "markdown",
   "id": "e88bec81-f1fd-4788-8ef7-2b4b99f31185",
   "metadata": {},
   "source": [
    "**Expected output**\n",
    "\n",
    "| Metric | Value |\n",
    "|:--|--:|\n",
    "| Customer Satisfaction | 92% |\n",
    "| Employee Satisfaction | 87% |\n",
    "| Product Adoption Rate | 78% |\n",
    "| Revenue Growth | 45% |\n",
    "| User Acquisition Cost | 43.00 |\n",
    "| Operating Margin | 34% |\n",
    "| Market Share | 23% |\n",
    "| Previous Customer Churn | 8% |\n",
    "| Customer Churn | 5% |\n"
   ]
  },
  {
   "cell_type": "code",
   "execution_count": 86,
   "id": "1f4fe994-cfa4-452a-8d9d-004b9f532bd5",
   "metadata": {},
   "outputs": [
    {
     "name": "stdout",
     "output_type": "stream",
     "text": [
      "| Metric | Value |\n",
      "|:--|--:|\n",
      "| Customer Satisfaction | 92% |\n",
      "| Employee Satisfaction | 87% |\n",
      "| Product Adoption Rate | 78% |\n",
      "| Revenue Growth | 45% |\n",
      "| New User Acquisition Cost | 43 |\n",
      "| Operating Margin | 34% |\n",
      "| Market Share | 23% |\n",
      "| Customer Churn | 5% |\n"
     ]
    }
   ],
   "source": [
    "print(output1)"
   ]
  },
  {
   "cell_type": "markdown",
   "id": "e0ff299e-6688-4f5d-82aa-06bbc3f9bc04",
   "metadata": {},
   "source": [
    "#### Example 2: Chain workflow to anonymise, translate and restyle text"
   ]
  },
  {
   "cell_type": "code",
   "execution_count": 13,
   "id": "d6d822b0-b2f0-481c-b525-f9d9adabb488",
   "metadata": {},
   "outputs": [],
   "source": [
    "anonymize_and_translate_steps = [\n",
    "    \"\"\"\"Perform named entity recognition NER on the text, enclosing each entity in the appropriate tag.\n",
    "    <example>\n",
    "    Before: 'Mr. Smith went to London, where he met his wife Jane Smith and his partner Leonard Farley'\n",
    "    After: 'Mr. <LASTNAME>Smith</LASTNAME> went to <CITY>London</CITY>, where he met his wife, <FIRSTNAME>Jane</FIRSTNAME><LASTNAME>Smith</LASTNAME>and his partner<FIRSTNAME>Leonard</FIRSTNAME><LASTNAME>Farley</LASTNAME>\n",
    "    </example>\n",
    "    \"\"\",\n",
    "    \n",
    "    \"\"\"Anonymize the text, replacing each entity marked with a tag with a pseudonym.\n",
    "    Make sure to preserve the meaning and content of sentence by replacing each entity with the same pseudonym.\n",
    "    <example>\n",
    "    Before: 'Mr. <LASTNAME>Smith</LASTNAME> went to <CITY>London</CITY>, where he met his wife, <FIRSTNAME>Jane</FIRSTNAME><LASTNAME>Smith</LASTNAME>and his partner<FIRSTNAME>Leonard</FIRSTNAME><LASTNAME>Farley</LASTNAME>,\n",
    "    After: 'Mr. Frum went to Balberry,where he met with his wife, Ellen Frum, and his partner, Algernon Leiter.\n",
    "    </example>\n",
    "    \"\"\",\n",
    "    \"\"\"Translate the anonymized text in Italian.\"\"\",\n",
    "    \"\"\"Turn the Italian into verses\"\"\",\n",
    "    \"\"\"Turn the verse into romanesco, in the style of Belli\"\"\",\n",
    "]"
   ]
  },
  {
   "cell_type": "code",
   "execution_count": 14,
   "id": "a3b1eab1-f293-4258-a007-686dc619e3a0",
   "metadata": {},
   "outputs": [],
   "source": [
    "secretary_prompt = \"You are a helpful secretary who values confidentiality and is adept at translations\"\n",
    "text = \"It was a rainy day in Glasgow, when brothers Chad and John Smith embarked on their journey to Rome, where they hoped they would meet General Tso and his chicken\"\n",
    "chainer2 = Chainer(system_prompt=secretary_prompt, steps=anonymize_and_translate_steps, inp=text, model=\"gpt-4o\", api_key=api_key)\n",
    "tradit = chainer2.chain()"
   ]
  },
  {
   "cell_type": "code",
   "execution_count": 15,
   "id": "cdf75771-c8a4-4937-adc4-9505724b38b3",
   "metadata": {},
   "outputs": [
    {
     "data": {
      "text/plain": [
       "\"Era 'na giornata de pioggia a Balberry,  \\nquanno li fratelli Edgar e Oliver Frum,  \\ns'incamminaveno, co' tutto 'sto fervore,  \\nverso Eldorado City, drento ar core.  \\n\\nLì speravono d'incontrà con gioia,  \\ner Colonnello Allaire, maestro de storia,  \\ne er suo pollo, simbolo d'allegria,  \\nin 'n'avventura de sfrenata fantasia.\""
      ]
     },
     "execution_count": 15,
     "metadata": {},
     "output_type": "execute_result"
    }
   ],
   "source": [
    "tradit"
   ]
  },
  {
   "cell_type": "markdown",
   "id": "1dd469d8-56fb-4ed5-9bb3-874090c8d1f5",
   "metadata": {},
   "source": [
    "#### Example 3: Chain workflow to create and perfect blog posts"
   ]
  },
  {
   "cell_type": "code",
   "execution_count": 16,
   "id": "873059bf-befd-43fc-9942-bd6fb4c157e3",
   "metadata": {},
   "outputs": [],
   "source": [
    "class Blogger(Chainer):\n",
    "    def __init__(self, topic, target_audience, word_count, model=\"gpt-4\", api_key=None):\n",
    "        # Define the system prompt for blog post generation\n",
    "        system_prompt = \"\"\"You are a professional blog content creator who specializes in creating\n",
    "        high-quality, engaging blog posts on various topics. You follow SEO best practices\n",
    "        and create content that is both informative and engaging.\"\"\"\n",
    "        \n",
    "        # Define the steps for the blog post creation pipeline\n",
    "        steps = [\n",
    "            # Step 1: Generate an outline\n",
    "            \"\"\"Create a detailed outline for a blog post on the given topic.\n",
    "            Include a title, introduction, 4-6 main sections with subpoints, and conclusion.\n",
    "            Format the outline with clear headings and bullet points.\"\"\",\n",
    "            \n",
    "            # Step 2: Validate and refine the outline\n",
    "            \"\"\"Review the outline and ensure it meets these criteria:\n",
    "            - Covers the topic comprehensively\n",
    "            - Flows logically from point to point\n",
    "            - Addresses the needs of the target audience\n",
    "            - Includes specific, actionable information\n",
    "            If any criteria are not met, refine the outline accordingly.\"\"\",\n",
    "            \n",
    "            # Step 3: Expand the outline into a complete post\n",
    "            \"\"\"Based on the validated outline, write the complete blog post.\n",
    "            Include all of the following:\n",
    "            1. An engaging title\n",
    "            2. A hook-filled introduction\n",
    "            3. Well-developed main sections with subheadings\n",
    "            4. A strong conclusion with a call-to-action\n",
    "            5. Write in a conversational but professional tone    \n",
    "            The complete post should be approximately {word_count} words.\"\"\"\n",
    "        ]\n",
    "        \n",
    "        \n",
    "        # Prepare input for the chaining process\n",
    "        input_data = f\"\"\"\n",
    "        Topic: {topic}\n",
    "        Target Audience: {target_audience}\n",
    "        Approximate Word Count: {word_count}\n",
    "        \"\"\"\n",
    "        \n",
    "        # Initialize the parent class\n",
    "        super().__init__(system_prompt, steps, input_data, model, api_key)\n",
    "    \n",
    "    def generate_blog_post(self, verbose=True):\n",
    "        \"\"\"Generate a complete blog post using the chaining process\"\"\"\n",
    "        print(f\"🚀 Starting blog post generation process...\")\n",
    "        result = self.chain(verbose=verbose)\n",
    "        print(f\"✅ Blog post generation complete!\")\n",
    "        return result\n",
    "    \n",
    "    def save_to_file(self, filename):\n",
    "        \"\"\"Save the generated blog post to a markdown file\"\"\"\n",
    "        blog_post = self.generate_blog_post(verbose=False)\n",
    "        with open(filename, 'w') as f:\n",
    "            f.write(blog_post)\n",
    "        print(f\"📝 Blog post saved to {filename}\")"
   ]
  },
  {
   "cell_type": "code",
   "execution_count": 17,
   "id": "e32a1c13-e4b6-4146-a54a-88b46e82cfda",
   "metadata": {},
   "outputs": [
    {
     "name": "stdout",
     "output_type": "stream",
     "text": [
      "🚀 Starting blog post generation process...\n",
      "STEP: 0\n",
      "# Outline for Blog Post: Exploring the Philosophy of Logic\n",
      "\n",
      "## Introduction\n",
      "- Definition of logic and its importance across disciplines.\n",
      "- Overview of the relationship between philosophy and logic.\n",
      "- Purpose of the post: to delve into key philosophical questions about logic, its implications, and its applications in various fields.\n",
      "\n",
      "## 1. Historical Development of Logic\n",
      "   ### 1.1 Ancient Beginnings\n",
      "   - Aristotle's contributions to syllogistic logic.\n",
      "   - Early thoughts on valid reasoning in Greek philosophy.\n",
      "   ### 1.2 Medieval and Early Modern Perspectives\n",
      "   - The role of logic in scholasticism.\n",
      "   - Contributions of philosophers like Aquinas and Descartes.\n",
      "   ### 1.3 19th and 20th Century Advances\n",
      "   - Frege’s symbolic logic and its impact.\n",
      "   - The rise of formal logic and the influence of Bertrand Russell and G.E. Moore.\n",
      "\n",
      "## 2. Major Philosophical Questions in Logic\n",
      "   ### 2.1 The Nature of Logical Truth\n",
      "   - Is logical truth objective or subjective?\n",
      "   - Different viewpoints: Platonism vs. nominalism.\n",
      "   ### 2.2 The Role of Logic in Language\n",
      "   - Exploring the links between logic and linguistic meaning.\n",
      "   - The implications of logical positivism and language games.\n",
      "   ### 2.3 Paradoxes and Their Significance\n",
      "   - Examination of famous paradoxes (e.g., the Liar Paradox).\n",
      "   - What these paradoxes reveal about the limitations of logic. \n",
      "\n",
      "## 3. Logical Consequence and Inference\n",
      "   ### 3.1 Understanding Logical Consequence\n",
      "   - Definition of logical consequence and its relevance.\n",
      "   - Discussion of the transference of truth values in logical systems.\n",
      "   ### 3.2 Different Systems of Logic\n",
      "   - Brief overview of classical logic, intuitionistic logic, and modal logic.\n",
      "   - How each system approaches the concept of inference and consequence.\n",
      "   ### 3.3 The Importance of Deductive vs. Inductive Reasoning \n",
      "   - Definitions and differences.\n",
      "   - The philosophical debates surrounding each type of reasoning.\n",
      "\n",
      "## 4. Logic in Computer Science and Mathematics\n",
      "   ### 4.1 The Logic of Computation\n",
      "   - Overview of how logical principles underpin algorithms and programming languages.\n",
      "   - Discussion of formal verification and software correctness.\n",
      "   ### 4.2 Applying Logic in Mathematical Proofs\n",
      "   - Importance of logical reasoning in mathematical definitions, theorems, and proofs.\n",
      "   - Difference between constructive and non-constructive proofs.\n",
      "   ### 4.3 Philosophical Implications in AI\n",
      "   - Ethical considerations of logic in AI systems.\n",
      "   - The role of logic in machine learning and decision-making processes.\n",
      "\n",
      "## 5. Contemporary Issues in the Philosophy of Logic\n",
      "   ### 5.1 The Debate on Non-Classical Logics\n",
      "   - Introduction to paraconsistent and relevance logics.\n",
      "   - Their implications on traditional notions of contradiction and relevance.\n",
      "   ### 5.2 The Relationship Between Logic and Computation\n",
      "   - Exploring computational paradigms: logical programming and algorithmic logic.\n",
      "   - The symbiotic relationship between logic and computer science advancements.\n",
      "   ### 5.3 Upcoming Philosophical Questions\n",
      "   - The implications of quantum logic.\n",
      "   - Logic in the context of big data and information theory.\n",
      "\n",
      "## Conclusion\n",
      "- Summary of key insights into the philosophy of logic.\n",
      "- Reflection on the evolving nature of logic as a discipline.\n",
      "- Call to engage further with philosophical inquiries in logic and its applications across fields.\n",
      "\n",
      "This structured outline provides a comprehensive look at the philosophy of logic, designed to engage advanced undergraduate and graduate students, while adhering to SEO best practices for maximum reach and engagement.\n",
      "====================================\n",
      "STEP: 1\n",
      "The outline you provided is strong, but to ensure it comprehensively meets the specified criteria and incorporates specific, actionable information for advanced undergraduate and graduate students in Philosophy, Computer Science, and Mathematics, I recommend a few refinements. The goal is to enhance clarity, interconnectivity of ideas, and provide more specific real-world applications while keeping it academic. Below is the refined outline:\n",
      "\n",
      "# Refined Outline for Blog Post: Exploring the Philosophy of Logic\n",
      "\n",
      "## Introduction\n",
      "- **Definition of Logic**: Scope and significance across various domains (Philosophy, Computer Science, Mathematics).\n",
      "- **Philosophy and Logic**: The interplay between logical frameworks and philosophical inquiry.\n",
      "- **Purpose Statement**: To explore foundational questions within the philosophy of logic, implications for critical thinking, and applications in contemporary fields.\n",
      "\n",
      "## 1. Historical Development of Logic\n",
      "   ### 1.1 Ancient Beginnings\n",
      "   - **Aristotle’s Contributions**: Key principles of syllogistic reasoning.\n",
      "   - **Greek Philosophy**: Canonical texts that laid the groundwork for logical reasoning.\n",
      "   ### 1.2 Medieval and Early Modern Perspectives\n",
      "   - **Scholasticism**: The integration of logic into theological and philosophical debates.\n",
      "   - **Key Figures**: Contributions of Aquinas and Descartes to logical frameworks.\n",
      "   ### 1.3 19th and 20th Century Advances\n",
      "   - **Frege and Symbolic Logic**: The shift from traditional to formal logic.\n",
      "   - **Legacy of Modern Logicians**: Impact of Bertrand Russell and G.E. Moore on logical analysis.\n",
      "\n",
      "## 2. Major Philosophical Questions in Logic\n",
      "   ### 2.1 The Nature of Logical Truth\n",
      "   - **Objective vs. Subjective**: Exploring the nature of logical truths; are they discovered or invented?\n",
      "   - **Philosophical Positions**: Discussion on Platonism versus nominalism with examples.\n",
      "   ### 2.2 The Role of Logic in Language\n",
      "   - **Logical Positivism**: The significance of language in shaping logical structures.\n",
      "   - **Language Games**: Insights from Wittgenstein on meaning and implication in logic.\n",
      "   ### 2.3 Paradoxes and Their Significance\n",
      "   - **Famous Paradoxes**: In-depth analysis of the Liar Paradox and other notable examples.\n",
      "   - **Lessons Learned**: How these challenge traditional views of logical consistency.\n",
      "\n",
      "## 3. Logical Consequence and Inference\n",
      "   ### 3.1 Understanding Logical Consequence\n",
      "   - **Definition and Importance**: Clarifying what constitutes logical consequence.\n",
      "   - **Truth Value Transference**: Practical examples demonstrating this concept.\n",
      "   ### 3.2 Different Systems of Logic\n",
      "   - **Classical Logic**: Basic tenets and practical applications.\n",
      "   - **Intuitionistic Logic and Modal Logic**: Their unique approaches and real-world implications.\n",
      "   ### 3.3 The Importance of Deductive vs. Inductive Reasoning \n",
      "   - **Definitions and Applications**: Real-world implications in science and everyday reasoning.\n",
      "   - **Philosophical Debates**: Contemporary arguments regarding the reliability of each reasoning type.\n",
      "\n",
      "## 4. Logic in Computer Science and Mathematics\n",
      "   ### 4.1 The Logic of Computation\n",
      "   - **Role in Algorithms**: How logical principles guide the design and analysis of algorithms.\n",
      "   - **Formal Verification**: Case studies on software correctness assurance.\n",
      "   ### 4.2 Applying Logic in Mathematical Proofs\n",
      "   - **Importance in Mathematics**: Overview of the role of logic in constructing mathematical proofs.\n",
      "   - **Constructive vs. Non-Constructive Proofs**: Specific examples from number theory.\n",
      "   ### 4.3 Philosophical Implications in AI\n",
      "   - **Ethical Considerations**: The role of logic in creating ethical guidelines for AI.\n",
      "   - **Machine Learning**: How logical frameworks underpin decision-making processes in AI systems.\n",
      "\n",
      "## 5. Contemporary Issues in the Philosophy of Logic\n",
      "   ### 5.1 The Debate on Non-Classical Logics\n",
      "   - **Introduction to Alternatives**: Paraconsistent and relevance logics explained with current usage.\n",
      "   - **Implications**: How these challenge traditional logical frameworks and influence modern reasoning.\n",
      "   ### 5.2 The Relationship Between Logic and Computation\n",
      "   - **Computational Paradigms**: Logical programming and its evolution.\n",
      "   - **Synergy with Computer Science**: Examples of advancements achieved through logical principles.\n",
      "   ### 5.3 Upcoming Philosophical Questions\n",
      "   - **Quantum Logic**: Exploring its implications for classical logical frameworks.\n",
      "   - **Big Data and Information Theory**: The role of logic in handling complex data sets and deriving meaning.\n",
      "\n",
      "## Conclusion\n",
      "- **Summary of Insights**: Key takeaways on the intersection of logic with philosophy, computer science, and mathematics.\n",
      "- **Reflection on Evolution**: Thoughts on how the field is transforming with technological advancements.\n",
      "- **Call to Action**: Encouragement for students and scholars to further explore the philosophical dimensions of logic and its practical applications in contemporary society.\n",
      "\n",
      "### Notes on Improvements Made:\n",
      "- The refined outline includes clear subpoints aimed at engaging the target audience by offering practical examples and real-world applications.\n",
      "- Emphasis is placed on contemporary relevance, addressing the complexities students face in philosophy and associated fields.\n",
      "- Logical flow is maintained, ensuring a coherent progression of ideas from historical roots to contemporary implications. \n",
      "\n",
      "This refined outline should cater well to the advanced understanding of the target audience while providing ample opportunities for deeper exploration of the philosophy of logic.\n",
      "====================================\n",
      "STEP: 2\n",
      "# Exploring the Philosophy of Logic: A Journey Through Thought and Application\n",
      "\n",
      "## Introduction\n",
      "\n",
      "In an era increasingly driven by technology and critical reasoning, the philosophy of logic stands as a pillar for understanding the foundations of thought and argumentation. Logic isn’t simply an abstract construct; it plays a crucial role in disciplines such as Philosophy, Computer Science, and Mathematics. It shapes not only how we reason but also how we communicate and interact with the world around us. This blog aims to explore foundational questions within logic, its philosophical implications, and its diverse applications. Whether you’re delving into syllogisms, computational logic, or the ethical frameworks of artificial intelligence, understanding the philosophy of logic is essential for anyone engaging with these fields at an advanced level.\n",
      "\n",
      "## 1. Historical Development of Logic\n",
      "\n",
      "### 1.1 Ancient Beginnings\n",
      "\n",
      "The origins of logic can be traced back to ancient civilizations, with Aristotle being a central figure. His exploration of syllogistic reasoning laid the groundwork for formal logic, enabling scholars to articulate clear arguments. Aristotle's work, particularly in texts like \"Prior Analytics,\" established how conclusions can be drawn from premises. This ancient foundation also includes various Greek philosophers who debated what constitutes valid reasoning, forming the backbone of Western philosophical thought.\n",
      "\n",
      "### 1.2 Medieval and Early Modern Perspectives\n",
      "\n",
      "The medieval period saw the integration of logic into theological discussions, particularly within scholasticism. Thinkers like Thomas Aquinas synthesized Aristotelian logic with Christian theology, deepening our understanding of universals and particulars. Meanwhile, the early modern period marked a significant shift in logical analysis led by philosophers like René Descartes, whose emphasis on doubt and certainty questioned earlier logical frameworks and propelled the development of modern philosophy.\n",
      "\n",
      "### 1.3 19th and 20th Century Advances\n",
      "\n",
      "The 19th and 20th centuries introduced groundbreaking changes in logical theory. Gottlob Frege's symbolic logic redefined the discourse on logic, leading to the formalization of logical systems. Later, figures like Bertrand Russell and G.E. Moore pioneered new analytical methods, profoundly influencing not just philosophical logic but also the emerging field of mathematics. Their efforts to bridge logic and mathematics laid the foundation for contemporary logical analysis and discussions.\n",
      "\n",
      "## 2. Major Philosophical Questions in Logic\n",
      "\n",
      "### 2.1 The Nature of Logical Truth\n",
      "\n",
      "One of the core issues in the philosophy of logic is the nature of logical truth. Are these truths objective realities we discover, or are they subjective constructs of human thought? Philosophers engage in lively debates regarding Platonism, which posits that logical truths exist independently of human minds, versus nominalism, which argues that such truths are merely linguistic conventions.\n",
      "\n",
      "### 2.2 The Role of Logic in Language\n",
      "\n",
      "Emphasizing the significance of language, logical positivists argue that language shapes logical structure. Here, Ludwig Wittgenstein's concept of language games provides deep insights into how meaning is constructed through contextual usage rather than inherent truth. This perspective urges us to consider how our language influences logical comprehension and argumentation.\n",
      "\n",
      "### 2.3 Paradoxes and Their Significance\n",
      "\n",
      "The exploration of paradoxes, such as the Liar Paradox (\"This statement is false\"), illustrates the limitations of traditional logical frameworks. These paradoxes challenge our understanding of consistency and compel philosophers to reassess foundational principles of logic. The ongoing philosophical discourse around these paradoxes reveals much about the evolution of logical thought and its implications.\n",
      "\n",
      "## 3. Logical Consequence and Inference\n",
      "\n",
      "### 3.1 Understanding Logical Consequence\n",
      "\n",
      "At its core, logical consequence refers to the relationships among premises and conclusions. It outlines what follows necessarily from what we assume to be true. Practical examples, such as the syllogism \"All humans are mortal; Socrates is a human; therefore, Socrates is mortal,\" illustrate the transference of truth values across logical constructs and how they function in reasoning.\n",
      "\n",
      "### 3.2 Different Systems of Logic\n",
      "\n",
      "We encounter a variety of logical systems, each with its nuances. Classical logic, characterized by binary true/false values, contrasts sharply with intuitionistic logic, which rejects the law of the excluded middle—the idea that every proposition is either true or false. Then there’s modal logic, dealing with necessity and possibility, broadening the scope of what can be analyzed in logical terms. Each of these systems applies uniquely to various real-world contexts.\n",
      "\n",
      "### 3.3 The Importance of Deductive vs. Inductive Reasoning\n",
      "\n",
      "Deductive reasoning, which derives specific conclusions from general premises, is often contrasted with inductive reasoning, which draws generalizations from specific instances. Understanding their definitions and applications is paramount. While deductive reasoning offers certainty in its conclusions, inductive reasoning provides a basis for hypothesis development in scientific inquiries, leading to contemporary debates regarding the reliability and validity of both approaches.\n",
      "\n",
      "## 4. Logic in Computer Science and Mathematics\n",
      "\n",
      "### 4.1 The Logic of Computation\n",
      "\n",
      "Logic serves as the backbone of computer science, guiding algorithmic design and analysis. For example, logical principles dictate how conditional statements function across programming languages. Additionally, formal verification ensures that software behaves correctly as intended, preventing errors that could lead to disastrous outcomes.\n",
      "\n",
      "### 4.2 Applying Logic in Mathematical Proofs\n",
      "\n",
      "In mathematics, logical reasoning is indispensable in constructing proofs. The distinction between constructive and non-constructive proofs becomes critical in fields such as number theory, where certain questions are proved through direct construction versus merely demonstrating a contradiction. These logical frameworks ensure the mathematical rigor that underpins the discipline.\n",
      "\n",
      "### 4.3 Philosophical Implications in AI\n",
      "\n",
      "As artificial intelligence becomes increasingly sophisticated, ethical implications of logic in AI proliferate. Logical frameworks guide the decision-making processes in AI systems, raising questions concerning transparency and accountability. The development of ethical AI frameworks must draw heavily on philosophical principles, reminding us of the potential risks and responsibilities associated with automation and machine learning.\n",
      "\n",
      "## 5. Contemporary Issues in the Philosophy of Logic\n",
      "\n",
      "### 5.1 The Debate on Non-Classical Logics\n",
      "\n",
      "Contemporary discussions often revolve around non-classical logics, such as paraconsistent and relevance logics. These alternatives challenge the traditional assumptions of classical logic, particularly how we might handle contradictions without leading to triviality. Exploring the usage of these logics in real-world applications underlines the ongoing evolution of logical thought.\n",
      "\n",
      "### 5.2 The Relationship Between Logic and Computation\n",
      "\n",
      "The interrelationship between logic and computation has grown significantly, influencing fields such as logical programming and algorithmic logic. This evolution continues to shape advancements in technology, suggesting that the principles of logic will remain integral to future developments in computer science.\n",
      "\n",
      "### 5.3 Upcoming Philosophical Questions\n",
      "\n",
      "As we move forward, emerging issues like quantum logic invite reconsideration of classical logical frameworks. The implications of big data and information theory further necessitate careful examination of logic in managing and interpreting vast amounts of data, highlighting how critical this discipline remains in a data-driven world.\n",
      "\n",
      "## Conclusion\n",
      "\n",
      "The journey through the philosophy of logic reveals not just the historical developments and theoretical discussions but also the practical implications that continue to shape our understanding of reasoning, language, and technology. As the landscape of logic evolves, so too must our engagement with its principles. \n",
      "\n",
      "**Call to Action:** I encourage students and scholars alike to deepen their study of the philosophies surrounding logic, exploring its impact on diverse disciplines and considering its ethical dimensions in a rapidly changing technological landscape. By doing so, we may not only enhance our intellectual rigor but also contribute meaningfully to the discourse in our interconnected world. Continue to ask questions, challenge assumptions, and let the philosophy of logic guide your quest for knowledge!\n",
      "====================================\n",
      "✅ Blog post generation complete!\n"
     ]
    }
   ],
   "source": [
    "blogger = Blogger(\n",
    "    topic=\"Philosophy of Logic\",\n",
    "    target_audience=\"advanced undergraduate and graduate students in Philosophy, Computer Science and Mathematics\",\n",
    "    word_count=1400,\n",
    "    model=\"gpt-4o-mini\",\n",
    "    api_key=api_key\n",
    ")\n",
    "post = blogger.generate_blog_post()"
   ]
  },
  {
   "cell_type": "code",
   "execution_count": 18,
   "id": "54c0291f-c37c-4605-898c-a32f6ba3486d",
   "metadata": {},
   "outputs": [],
   "source": [
    "# display(Markdown(post))"
   ]
  },
  {
   "cell_type": "markdown",
   "id": "3deb19c4-273b-4c73-95da-a5e8117afde1",
   "metadata": {},
   "source": [
    "### Routing: Dynamically selects specialized LLM paths based on input characteristics"
   ]
  },
  {
   "cell_type": "code",
   "execution_count": 19,
   "id": "3746fa70-2695-44d1-9ab8-d77f30be7558",
   "metadata": {},
   "outputs": [],
   "source": [
    "class LLMPrompt:\n",
    "    def __init__(self, role, prompt_type, prompt_message):\n",
    "        self.message = {\n",
    "            \"role\": role,\n",
    "            \"content\": [{\n",
    "                \"type\": prompt_type,\n",
    "                prompt_type: prompt_message\n",
    "            }]\n",
    "        }\n",
    "            \n",
    "class LLMAgentSystemPrompt(LLMPrompt):\n",
    "    def __init__(self, system_prompt):\n",
    "        super().__init__(role=\"developer\", prompt_type=\"text\", prompt_message=system_prompt)\n"
   ]
  },
  {
   "cell_type": "code",
   "execution_count": 20,
   "id": "07db1551-11c0-4bff-b613-55985b6c7442",
   "metadata": {},
   "outputs": [],
   "source": [
    "class LLMAgent:\n",
    "    def __init__(self, system_prompt, model, api_key):\n",
    "        self.client = OpenAI(api_key=api_key)\n",
    "        self.model = model\n",
    "        self.system_prompt = LLMAgentSystemPrompt(system_prompt).message"
   ]
  },
  {
   "cell_type": "code",
   "execution_count": 21,
   "id": "6273d09e",
   "metadata": {},
   "outputs": [],
   "source": [
    "class Router(LLMAgent):\n",
    "    def __init__(self, system_prompt, choices, model, api_key, input_data):\n",
    "        super().__init__(system_prompt, model, api_key)\n",
    "        self.input_data = input_data\n",
    "        self.choices = choices\n",
    "    \n",
    "    def route(self):\n",
    "        routing_prompt_text=f\"Analyze the following data {self.input_data.strip()} and based on the data select the most appropriate of the following options: {self.choices}\"\n",
    "        self.routing_prompt = LLMPrompt(\"user\", \"text\", routing_prompt_text)\n",
    "        chain = [self.system_prompt, self.routing_prompt.message]\n",
    "        response = self.client.chat.completions.create(\n",
    "            model=self.model,\n",
    "            messages=chain,\n",
    "            max_tokens=1000)\n",
    "        response_content = response.choices[0].message.content\n",
    "        return response_content\n"
   ]
  },
  {
   "cell_type": "code",
   "execution_count": 22,
   "id": "3a5e2bb7-09b8-4a85-b400-c54fca987cb4",
   "metadata": {},
   "outputs": [],
   "source": [
    "router = Router(\n",
    "    \"you are a helpful assistant specializing in routing support tickets to the appropriate department\",\n",
    "    model=\"gpt-4o-mini\",\n",
    "    choices=[\"billing\", \"technical\", \"account\", \"product\"],\n",
    "    api_key=api_key,\n",
    "    input_data=\"\"\"Ticket 2:\n",
    "    Subject: Unexpected charge on my card\n",
    "    Message: Hello, I just noticed a charge of $49.99 on my credit card from your company, but I thought\n",
    "    I was on the $29.99 plan. Can you explain this charge and adjust it if it's a mistake?\n",
    "    Thanks,\n",
    "    Sarah\"\"\"\n",
    ")"
   ]
  },
  {
   "cell_type": "code",
   "execution_count": 23,
   "id": "a2d953fc-c85f-45c1-b9de-5f390506b101",
   "metadata": {},
   "outputs": [],
   "source": [
    "route = router.route()"
   ]
  },
  {
   "cell_type": "code",
   "execution_count": 24,
   "id": "b4e84528-299a-4202-be98-7d7f0dc4172c",
   "metadata": {},
   "outputs": [
    {
     "data": {
      "text/plain": [
       "\"Based on the subject and message of Ticket 2, the most appropriate option for routing this ticket is **'billing'**.\""
      ]
     },
     "execution_count": 24,
     "metadata": {},
     "output_type": "execute_result"
    }
   ],
   "source": [
    "route"
   ]
  },
  {
   "cell_type": "code",
   "execution_count": 25,
   "id": "57d02e97-9780-42d8-9809-2d0dd18e7b76",
   "metadata": {},
   "outputs": [
    {
     "name": "stdout",
     "output_type": "stream",
     "text": [
      "Based on the subject and message content of Ticket 3, the most appropriate department to route this ticket to is **'technical'**. The request is related to exporting project data, which involves technical guidance on using the software’s features.\n"
     ]
    }
   ],
   "source": [
    "ticket=\"\"\"Ticket 3:\n",
    "----------------------------------------\n",
    "Subject: How to export data?\n",
    "    Message: I need to export all my project data to Excel. I've looked through the docs but can't\n",
    "    figure out how to do a bulk export. Is this possible? If so, could you walk me through the steps?\n",
    "    Best regards,\n",
    "    Mike\"\"\"\n",
    "router = Router(\n",
    "    \"you are a helpful assistant specializing in routing support tickets to the appropriate department\",\n",
    "    model=\"gpt-4o-mini\",\n",
    "    choices=[\"billing\", \"technical\", \"account\", \"product\"],\n",
    "    api_key=api_key,\n",
    "    input_data=ticket\n",
    ")\n",
    "route = router.route()\n",
    "print(route)"
   ]
  },
  {
   "cell_type": "markdown",
   "id": "24273b4f-d6b6-4b67-8392-8c4d2d671e41",
   "metadata": {},
   "source": [
    "### Parallelization: Distributes independent subtasks across multiple LLMs for concurrent processing"
   ]
  },
  {
   "cell_type": "markdown",
   "id": "074a0380-241c-42c6-9e7a-f8af367be9d5",
   "metadata": {},
   "source": [
    "#### Example: Parallelization workflow for stakeholder impact analysis\n",
    "Process impact analysis for multiple stakeholder groups concurrently"
   ]
  },
  {
   "cell_type": "code",
   "execution_count": 26,
   "id": "a6bfe414-ab6e-42e6-aea0-cf936646c92e",
   "metadata": {},
   "outputs": [],
   "source": [
    "from concurrent.futures import ThreadPoolExecutor"
   ]
  },
  {
   "cell_type": "code",
   "execution_count": 52,
   "id": "d1fae8f5-0436-4504-a10d-48fa5ca639cc",
   "metadata": {},
   "outputs": [],
   "source": [
    "class ParallelAgent(LLMAgent):\n",
    "    def __init__(self, system_prompt, tasks, instruction, model, api_key):\n",
    "        self.tasks = tasks\n",
    "        self.instruction = instruction\n",
    "        super().__init__(system_prompt, model, api_key)\n",
    "\n",
    "    def run_parallel(self, n_workers=3):    \n",
    "        with ThreadPoolExecutor(max_workers=n_workers) as executor:\n",
    "            f = lambda task : client.chat.completions.create(\n",
    "                model=self.model,\n",
    "                max_completion_tokens=1000,\n",
    "                messages = [\n",
    "                    {\"role\": \"user\",\n",
    "                     \"content\": [{\n",
    "                            \"type\": \"text\",\n",
    "                            \"text\": task\n",
    "                     }]\n",
    "                    }]\n",
    "                )\n",
    "            futures = [executor.submit(f, f\"{self.instruction}\\nInput: {x}\") for x in self.tasks]\n",
    "        return [f.result().choices[0].message.content for f in futures]"
   ]
  },
  {
   "cell_type": "code",
   "execution_count": 53,
   "id": "00d3bc0f-71d9-42b6-b198-cd510afcc7ba",
   "metadata": {},
   "outputs": [],
   "source": [
    "stakeholders = [\n",
    "    \"\"\"Customers:\n",
    "    - Price sensitive\n",
    "    - Want better tech\n",
    "    - Environmental concerns\"\"\",\n",
    "    \n",
    "    \"\"\"Employees:\n",
    "    - Job security worries\n",
    "    - Need new skills\n",
    "    - Want clear direction\"\"\",\n",
    "    \n",
    "    \"\"\"Investors:\n",
    "    - Expect growth\n",
    "    - Want cost control\n",
    "    - Risk concerns\"\"\",\n",
    "    \n",
    "    \"\"\"Suppliers:\n",
    "    - Capacity constraints\n",
    "    - Price pressures\n",
    "    - Tech transitions\"\"\"\n",
    "]\n",
    "instruction =  \"\"\"Analyze how market changes will impact this stakeholder group.\n",
    "    Provide specific impacts and recommended actions.\n",
    "    Format with clear sections and priorities.\"\"\""
   ]
  },
  {
   "cell_type": "code",
   "execution_count": 54,
   "id": "ca8a2634-77a7-482f-917d-41159e372386",
   "metadata": {},
   "outputs": [],
   "source": [
    "parallel = ParallelAgent(\n",
    "    \"You are an expert analyst, assessing stakeholder involvement\",\n",
    "    stakeholders,\n",
    "    instruction,\n",
    "    \"gpt-4o-mini\",\n",
    "    api_key\n",
    ")\n",
    "\n",
    "analysis = parallel.run_parallel(3)"
   ]
  },
  {
   "cell_type": "code",
   "execution_count": 55,
   "id": "3af61537-a4e3-489a-aed1-c53c39abc551",
   "metadata": {},
   "outputs": [
    {
     "data": {
      "text/plain": [
       "[\"# Analysis of Market Changes Impacting Customers\\n\\n## Overview\\nThe current market trends reveal significant shifts that will impact customers, particularly those who are price-sensitive and have increasing demands for better technology and environmental responsibility. This analysis will assess the specific impacts on these customers and recommend actions to better align with their evolving expectations.\\n\\n## Impact Analysis\\n\\n### 1. **Price Sensitivity**\\n- **Impact:** Customers are becoming increasingly price-conscious due to economic volatility and inflationary pressures. This could result in reduced spending or a shift towards lower-cost alternatives, even among loyal customers.\\n- **Primary Concerns:** Loss of customer loyalty, shifting to competitors, and pressure to maintain profitability while delivering value.\\n\\n### 2. **Demand for Better Technology**\\n- **Impact:** Customers are gravitating towards products that incorporate the latest technology, including IoT integration, AI capabilities, and enhanced user experience. Companies failing to innovate could lose market relevance.\\n- **Primary Concerns:** Risk of customer dissatisfaction and a potential decline in sales if products do not meet technological expectations.\\n\\n### 3. **Environmental Concerns**\\n- **Impact:** There is a growing demand for sustainable practices and products that minimize environmental impact. This trend signifies that companies must adapt their offerings to meet these expectations to retain customers.\\n- **Primary Concerns:** Bankrupting traditional practices can lead to reputational damage and loss of environmentally conscious customers, potentially diminishing market share.\\n\\n## Recommended Actions\\n\\nBased on the impact analysis, the following strategic actions are recommended to better align with the needs and concerns of the customer segment:\\n\\n### A. **Pricing Strategy Optimization**\\n- **Action:** Implement flexible pricing models including tiered pricing, subscription services, and value bundles that cater to price-sensitive segments.\\n- **Priority:** High\\n- **Rationale:** This approach retains customer loyalty while enabling them to choose options that best fit their budget.\\n\\n### B. **Enhance Technological Offerings**\\n- **Action:** Invest in research and development to incorporate the latest technologies into products and services. Collaborate with tech innovators and start-ups.\\n- **Priority:** Medium\\n- **Rationale:** Staying ahead in technology not only satisfies customer demand but can also serve as a differentiator in the marketplace.\\n\\n### C. **Sustainability Initiatives**\\n- **Action:** Develop a sustainability framework that includes eco-friendly products, waste-reduction strategies, and transparent reporting on environmental impact.\\n- **Priority:** High\\n- **Rationale:** Meeting environmental concerns can enhance brand loyalty and attract a growing segment of environmentally conscious consumers.\\n\\n### D. **Customer Engagement and Feedback Loops**\\n- **Action:** Establish consistent channels for customer feedback focusing on pricing, technology preferences, and sustainability concerns. Regularly survey customers and implement their feedback.\\n- **Priority:** Medium\\n- **Rationale:** Engaging with customers fosters loyalty and provides insights that can guide product development and marketing strategies.\\n\\n### E. **Marketing Strategies Focused on Value**\\n- **Action:** Develop marketing campaigns that emphasize value—how the company’s offerings meet technological advancements while being eco-conscious at a competitive price.\\n- **Priority:** Low\\n- **Rationale:** Positioning the brand in a way that resonates with customers' values can improve brand perception and increase customer engagement over time.\\n\\n## Conclusion\\nBy addressing the specific impacts of market changes on customer stakeholders, a strategically tailored approach can enhance customer satisfaction and loyalty. Prioritizing pricing strategies, technological enhancement, and sustainability initiatives will ensure the company meets the evolving demands of its customers in the current market landscape.\",\n",
       " '## Impact Analysis on Employees Due to Market Changes\\n\\n### Overview\\nMarket changes, particularly those driven by technological advancements, economic fluctuations, and evolving consumer preferences, present both challenges and opportunities for employees. Understanding and addressing these impacts is essential to ensure employee engagement, productivity, and retention.\\n\\n---\\n\\n### 1. Job Security Worries\\n\\n#### Impact\\n- **Increased Anxiety:** Employees may feel threatened by potential layoffs, automation, or restructuring, leading to decreased morale and productivity.\\n- **Talent Retention:** High levels of uncertainty can result in increased turnover, with talented employees seeking more stable job opportunities elsewhere.\\n\\n#### Recommended Actions\\n- **Transparent Communication:** Regularly update employees about company performance and strategic direction to foster a sense of security and ownership.\\n- **Job Redesign:** Assess roles for potential changes and offer reassurance about job stability wherever possible.\\n- **Engagement Surveys:** Conduct surveys to gauge employee concerns and address them proactively.\\n\\n---\\n\\n### 2. Need for New Skills\\n\\n#### Impact\\n- **Skill Gaps:** Rapid changes in technology and market demands may render existing skills obsolete, leading to employee frustration and disengagement.\\n- **Professional Development Needs:** Employees who feel unprepared to meet new market demands may experience decreased confidence and productivity.\\n\\n#### Recommended Actions\\n- **Upskilling Programs:** Invest in training initiatives that focus on emerging technologies, soft skills, and industry-specific competencies to empower employees.\\n- **Mentorship Opportunities:** Establish mentorship and coaching programs to facilitate knowledge transfer and skill enhancement.\\n- **Partnerships with Educational Institutions:** Collaborate with local colleges or online platforms to create tailored learning experiences for employees.\\n\\n---\\n\\n### 3. Desire for Clear Direction\\n\\n#### Impact\\n- **Loss of Focus:** Employees may become disengaged if they don’t understand the strategic vision or how their roles contribute to organizational goals.\\n- **Increased Turnover Intentions:** Lack of clarity can lead to frustration and ultimately prompt employees to seek jobs that offer better alignment with their values and career aspirations.\\n\\n#### Recommended Actions\\n- **Goal Alignment Sessions:** Conduct regular meetings to communicate the organization’s vision, goals, and strategic priorities, involving employees in the process.\\n- **Performance Management Systems:** Implement clear performance metrics that align individual roles with organizational objectives, providing regular feedback and recognition.\\n- **Employee Involvement in Decision-Making:** Create avenues for employees to contribute ideas and feedback on company direction, fostering a sense of ownership and commitment to the company’s success.\\n\\n---\\n\\n### Prioritization of Actions\\n1. **Transparent Communication**: Building trust through clarity about job security.\\n2. **Upskilling Programs**: Equipping employees for current and future roles.\\n3. **Goal Alignment Sessions**: Ensuring employees understand their contribution to company success.\\n\\n### Conclusion\\nProactive measures taken to address job security worries, skill development needs, and the demand for clear direction will not only mitigate the negative impacts of market changes on employees but also position the organization to thrive in the future. Prioritizing engagement, development, and transparency is crucial in fostering a resilient and motivated workforce.',\n",
       " \"# Market Changes Impact Analysis on Investors\\n\\n## Stakeholder Group: Investors\\n\\n### Current Investor Expectations\\n- **Growth**: Investors are primarily focused on capital appreciation and returns from their investments.\\n- **Cost Control**: Investors prefer companies to manage expenses effectively to enhance profitability.\\n- **Risk Concerns**: Investors are increasingly wary of market volatility, economic uncertainty, and specific sector risks.\\n\\n## Market Changes and Their Impacts\\n\\n### 1. Economic Volatility\\n**Impact**: Economic fluctuations can lead to uncertainty, affecting companies' profitability and investor confidence. Market volatility may result in stock price declines, which can concern investors about their returns.\\n\\n**Recommended Actions**:\\n- **Transparent Communication**: Companies should ensure regular updates on financial health, market positioning, and response strategies to economic changes.\\n- **Diversification Strategies**: Encourage companies to diversify their revenue streams to mitigate risks associated with economic downturns.\\n\\n### 2. Rising Interest Rates\\n**Impact**: Higher interest rates can increase borrowing costs for companies, leading to tighter profit margins. This scenario can heighten risk for investors as companies may struggle to grow or sustain income levels.\\n\\n**Recommended Actions**:\\n- **Cost-Optimization Initiatives**: Companies should focus on operational efficiencies and cost-cutting measures to sustain margins under higher interest burdens.\\n- **Investment in Debt Management**: Companies should actively manage debts to reduce exposure to increased interest payments, reassuring investors about their financial stability.\\n\\n### 3. Technological Advancements\\n**Impact**: Rapid technological advancements can result in industry disruptions, presenting both opportunities and risks. Investors may be worried about firms falling behind in innovation.\\n\\n**Recommended Actions**:\\n- **Innovation Investments**: Promote investments in R&D to stay ahead of technological trends and mitigate the risks associated with obsolescence.\\n- **Strategic Partnerships**: Encourage companies to engage in partnerships or acquisitions that bolster innovative capabilities and market competitiveness.\\n\\n### 4. ESG Considerations\\n**Impact**: An increasing focus on Environmental, Social, and Governance (ESG) factors can influence investor sentiment and decision-making, impacting demand for shares in companies that do not meet ESG criteria.\\n\\n**Recommended Actions**:\\n- **Implement ESG Strategies**: Companies should develop and execute robust ESG initiatives to appeal to socially conscious investors, enhancing corporate image and attractiveness.\\n- **Regular ESG Reporting**: Enhance transparency through consistent ESG performance reports to bolster investor confidence and trust.\\n\\n### 5. Shift towards Passive Investing\\n**Impact**: The rise of passive investing (e.g., index funds) can pressure active management firms to demonstrate relative performance, potentially increasing short-term focus and volatility in market behavior.\\n\\n**Recommended Actions**:\\n- **Performance Metrics Transparency**: Active management firms should clearly communicate their unique value propositions and performance metrics to reassure investors.\\n- **Long-term Strategies**: Focus on long-term strategic planning and outcomes rather than short-term gains to foster sustainable investor relationships.\\n\\n## Prioritization of Actions\\n1. **Transparent Communication**: Regularly update investors to manage expectations and build trust.\\n2. **Cost-Optimization Initiatives**: Focus on managing expenses as interest rates rise.\\n3. **Implement ESG Strategies**: Address the growing demand for responsible investing.\\n4. **Innovation Investments**: Sustain growth by investing in technology and capabilities.\\n5. **Diversification Strategies**: Spread risk through revenue diversification and strategic partnerships.\\n\\n### Conclusion\\nTo address the implications of current and emerging market changes, companies must adopt proactive measures that align with investor expectations for growth, cost control, and risk management. By doing so, they can reinforce investor confidence and strengthen their market position.\",\n",
       " '# Market Changes Impacting Suppliers\\n\\n## Overview\\nSuppliers are a critical stakeholder group that can be significantly affected by market changes, especially in relation to capacity constraints, price pressures, and technology transitions. In this analysis, we will examine the specific impacts these changes may have on suppliers and recommend actionable steps to mitigate potential challenges.\\n\\n## 1. Capacity Constraints\\n\\n### Impact:\\n- **Supply Chain Bottlenecks**: Suppliers may struggle to meet demand due to limited production capacity, leading to delays and potential loss of customers.\\n- **Increased Lead Times**: Customers may face longer waiting times for products, which can harm relationships and lead to loss of market share.\\n- **Operational Stress**: Existing facilities may experience wear and tear, leading to increased maintenance costs and potential stoppages.\\n\\n### Recommended Actions:\\n- **Invest in Capacity Expansion**: Suppliers should assess their current production capabilities and consider investments in facilities and equipment to increase output.\\n- **Diversify Supply Sources**: Establish collaborative partnerships with other suppliers to create a network that can share resources and alleviate capacity constraints.\\n- **Implement Lean Manufacturing Principles**: Optimize production processes to improve efficiency and reduce waste, thereby maximizing existing capacity.\\n\\n## 2. Price Pressures\\n\\n### Impact:\\n- **Reduced Profit Margins**: Suppliers may face pressure to lower prices from customers or rising raw material costs, which could erode profitability.\\n- **Cost-Cutting Measures**: In response to pressure, suppliers may implement aggressive cost-cutting strategies that could affect product quality and employee morale.\\n- **Market Share Loss**: If unable to meet price demands, suppliers risk losing business to competitors who can operate at lower costs.\\n\\n### Recommended Actions:\\n- **Conduct Cost Analysis**: Regularly review and analyze costs to identify potential areas for efficiency improvements and reduction.\\n- **Implement Value-Based Pricing**: Shift from cost-plus pricing models to value-based pricing to capture additional value provided to customers.\\n- **Enhance Supplier Relationships**: Foster strong relationships with key customers to facilitate collaborative approaches to pricing and secure longer-term agreements that stabilize revenue.\\n\\n## 3. Technology Transitions\\n\\n### Impact:\\n- **Training and Skill Gaps**: Suppliers may experience a workforce that is unprepared for new technologies, leading to inefficiencies and errors in production.\\n- **Investment Costs**: Adapting to new technologies often requires significant capital expenditure, which may strain financial resources.\\n- **Competitive Disadvantage**: Suppliers who fail to adopt new technologies may find themselves at a disadvantage compared to competitors who are leveraging tech advancements.\\n\\n### Recommended Actions:\\n- **Invest in Employee Training**: Develop training programs to upskill staff in new technologies and ensure a smooth transition to modern equipment and processes.\\n- **Explore Government Grants or Subsidies**: Seek out financial support from government or industry programs that promote technological innovation for suppliers.\\n- **Collaborate with Tech Partners**: Form partnerships with technology providers to facilitate smoother transitions and ensure access to the latest advancements.\\n\\n## Conclusion\\nSuppliers face significant challenges due to market changes, particularly in the areas of capacity constraints, price pressures, and technology transitions. By implementing the recommended actions outlined above, suppliers can adapt effectively to these changes, ensuring they remain competitive, relevant, and successful in a rapidly evolving marketplace. Prioritizing capacity expansion, cost analysis, and employee training will equip suppliers to face current and future market demands confidently.']"
      ]
     },
     "execution_count": 55,
     "metadata": {},
     "output_type": "execute_result"
    }
   ],
   "source": [
    "analysis"
   ]
  },
  {
   "cell_type": "code",
   "execution_count": null,
   "id": "bad7ca9f-3e4d-4b4f-b6c6-57b8e8432f2c",
   "metadata": {},
   "outputs": [],
   "source": []
  }
 ],
 "metadata": {
  "kernelspec": {
   "display_name": "Python 3 (ipykernel)",
   "language": "python",
   "name": "python3"
  },
  "language_info": {
   "codemirror_mode": {
    "name": "ipython",
    "version": 3
   },
   "file_extension": ".py",
   "mimetype": "text/x-python",
   "name": "python",
   "nbconvert_exporter": "python",
   "pygments_lexer": "ipython3",
   "version": "3.11.11"
  }
 },
 "nbformat": 4,
 "nbformat_minor": 5
}
