{
 "cells": [
  {
   "cell_type": "markdown",
   "id": "8fab69ce-98b2-4a93-8af2-3a60436ddf18",
   "metadata": {},
   "source": [
    "# Coding agents from scratch"
   ]
  },
  {
   "cell_type": "code",
   "execution_count": 107,
   "id": "c6783163-6d55-49a0-aa9b-7b073039bf2f",
   "metadata": {},
   "outputs": [],
   "source": [
    "import os\n",
    "from concurrent.futures import ThreadPoolExecutor\n",
    "from openai import OpenAI\n",
    "from dotenv import load_dotenv\n",
    "from typing import List, Dict, Callable"
   ]
  },
  {
   "cell_type": "code",
   "execution_count": 108,
   "id": "b8267467-be8d-4ed2-8915-e0d1f7c51895",
   "metadata": {},
   "outputs": [],
   "source": [
    "env = load_dotenv()\n",
    "api_key: str = os.environ.get(\"OPENAI_API_KEY\")"
   ]
  },
  {
   "cell_type": "code",
   "execution_count": 109,
   "id": "daba0dca-3b38-4204-a127-d5f2d195521e",
   "metadata": {},
   "outputs": [],
   "source": [
    "class LLMPrompt:\n",
    "    def __init__(self, role, prompt_type, prompt_message):\n",
    "        self.message = {\n",
    "            \"role\": role,\n",
    "            \"content\": [{\n",
    "                \"type\": prompt_type,\n",
    "                prompt_type: prompt_message\n",
    "            }]\n",
    "        }\n",
    "            \n",
    "class LLMAgentSystemPrompt(LLMPrompt):\n",
    "    def __init__(self, system_prompt):\n",
    "        super().__init__(role=\"developer\", prompt_type=\"text\", prompt_message=system_prompt)\n"
   ]
  },
  {
   "cell_type": "code",
   "execution_count": 110,
   "id": "6ec4bdaa-5cac-4b4a-be53-8d8420c11ed4",
   "metadata": {},
   "outputs": [],
   "source": [
    "class LLMClient:\n",
    "    def __init__(self, api_key):\n",
    "        self.client = OpenAI(api_key=api_key)\n",
    "\n",
    "    def call(self, model, messages, max_tokens=1000):\n",
    "        response = self.client.chat.completions.create(\n",
    "            model=model,\n",
    "            messages=messages,\n",
    "            max_completion_tokens=max_tokens\n",
    "        )\n",
    "        return response.choices[0].message.content\n",
    "\n",
    "class LLMAgent:\n",
    "    def __init__(self, system_prompt, model, api_key):\n",
    "        self.client = LLMClient(api_key=api_key)\n",
    "        self.model = model\n",
    "        self.system_prompt = LLMAgentSystemPrompt(system_prompt).message\n"
   ]
  },
  {
   "cell_type": "code",
   "execution_count": 111,
   "id": "c31faf00-fd94-410f-9e29-7e3d8fcf746b",
   "metadata": {},
   "outputs": [],
   "source": [
    "class ChainerAgent(LLMAgent):\n",
    "    def __init__(self, system_prompt, steps, inp, model, api_key):\n",
    "        super().__init__(system_prompt, model, api_key)        \n",
    "        self.steps = steps\n",
    "        self.inp = inp\n",
    "        self.model = model\n",
    "\n",
    "    def chain(self, verbose=False):\n",
    "        chain = [self.system_prompt]\n",
    "        current_input = self.inp\n",
    "        for ix, step in enumerate(self.steps):            \n",
    "            new_step = LLMPrompt(\"user\", \"text\", f\"{step}\\nInput: {current_input}\").message\n",
    "            chain.append(new_step)\n",
    "            response_content = self.client.call(\n",
    "                model=self.model,\n",
    "                messages=chain,\n",
    "                max_tokens=1000)\n",
    "\n",
    "            # Add the assistant's response to the chain\n",
    "            assistant_response = LLMPrompt(\"assistant\", \"text\", response_content).message\n",
    "            chain.append(assistant_response)\n",
    "            if verbose:\n",
    "                print(f\"STEP: {ix}\")\n",
    "                print(response_content)\n",
    "                print(\"=\"*36)\n",
    "            current_input = response_content\n",
    "        return response_content\n"
   ]
  },
  {
   "cell_type": "code",
   "execution_count": 112,
   "id": "a1246970-fc12-4283-8983-f0ccc14ae31f",
   "metadata": {},
   "outputs": [],
   "source": [
    "class BloggerAgent(Chainer):\n",
    "    def __init__(self, topic, target_audience, word_count, model=\"gpt-4o-mini\", api_key=None):\n",
    "        # Define the system prompt for blog post generation\n",
    "        system_prompt = \"\"\"You are a professional blog content creator who specializes in creating\n",
    "        high-quality, engaging blog posts on various topics. You follow SEO best practices\n",
    "        and create content that is both informative and engaging.\"\"\"\n",
    "        \n",
    "        # Define the steps for the blog post creation pipeline\n",
    "        steps = [\n",
    "            # Step 1: Generate an outline\n",
    "            \"\"\"Create a detailed outline for a blog post on the given topic.\n",
    "            Include a title, introduction, 4-6 main sections with subpoints, and conclusion.\n",
    "            Format the outline with clear headings and bullet points.\"\"\",\n",
    "            \n",
    "            # Step 2: Validate and refine the outline\n",
    "            \"\"\"Review the outline and ensure it meets these criteria:\n",
    "            - Covers the topic comprehensively\n",
    "            - Flows logically from point to point\n",
    "            - Addresses the needs of the target audience\n",
    "            - Includes specific, actionable information\n",
    "            If any criteria are not met, refine the outline accordingly.\"\"\",\n",
    "            \n",
    "            # Step 3: Expand the outline into a complete post\n",
    "            \"\"\"Based on the validated outline, write the complete blog post.\n",
    "            Include all of the following:\n",
    "            1. An engaging title\n",
    "            2. A hook-filled introduction\n",
    "            3. Well-developed main sections with subheadings\n",
    "            4. A strong conclusion with a call-to-action\n",
    "            5. Write in a conversational but professional tone    \n",
    "            The complete post should be approximately {word_count} words.\"\"\"\n",
    "        ]\n",
    "        \n",
    "        \n",
    "        # Prepare input for the chaining process\n",
    "        input_data = f\"\"\"\n",
    "        Topic: {topic}\n",
    "        Target Audience: {target_audience}\n",
    "        Approximate Word Count: {word_count}\n",
    "        \"\"\"\n",
    "        # Initialize the parent class\n",
    "        super().__init__(system_prompt, steps, input_data, model, api_key)\n",
    "    \n",
    "    def generate_blog_post(self, verbose=True):\n",
    "        \"\"\"Generate a complete blog post using the chaining process\"\"\"\n",
    "        print(f\"🚀 Starting blog post generation process...\")\n",
    "        result = self.chain(verbose=verbose)\n",
    "        print(f\"✅ Blog post generation complete!\")\n",
    "        return result\n",
    "    \n",
    "    def save_to_file(self, filename):\n",
    "        \"\"\"Save the generated blog post to a markdown file\"\"\"\n",
    "        blog_post = self.generate_blog_post(verbose=False)\n",
    "        with open(filename, 'w') as f:\n",
    "            f.write(blog_post)\n",
    "        print(f\"📝 Blog post saved to {filename}\")\n",
    "        "
   ]
  },
  {
   "cell_type": "code",
   "execution_count": 113,
   "id": "b9c676fa-9cf2-4209-a5ae-11903bc034c6",
   "metadata": {},
   "outputs": [],
   "source": [
    "class RouterAgent(LLMAgent):\n",
    "    def __init__(self, system_prompt, choices, model, api_key, input_data):\n",
    "        super().__init__(system_prompt, model, api_key)\n",
    "        self.input_data = input_data\n",
    "        self.choices = choices\n",
    "    \n",
    "    def route(self):\n",
    "        routing_prompt_text=f\"Analyze the following data {self.input_data.strip()} and based on the data select the most appropriate of the following options: {self.choices}\"\n",
    "        self.routing_prompt = LLMPrompt(\"user\", \"text\", routing_prompt_text)\n",
    "        chain = [self.system_prompt, self.routing_prompt.message]\n",
    "        response = self.client.call(\n",
    "            model=self.model,\n",
    "            messages=chain,)\n",
    "        return response"
   ]
  },
  {
   "cell_type": "code",
   "execution_count": 114,
   "id": "367963be-171d-4145-a31b-cb10baa5bcc0",
   "metadata": {},
   "outputs": [],
   "source": [
    "class ParallelAgent(LLMAgent):\n",
    "    def __init__(self, system_prompt, tasks, instruction, model, api_key):\n",
    "        self.tasks = tasks\n",
    "        self.instruction = instruction\n",
    "        super().__init__(system_prompt, model, api_key)\n",
    "\n",
    "    def run_parallel(self, n_workers=3):    \n",
    "        with ThreadPoolExecutor(max_workers=n_workers) as executor:\n",
    "            f = lambda task : self.client.call(\n",
    "                model=self.model,\n",
    "                max_completion_tokens=1000,\n",
    "                messages = [self.system_prompt, LLMPrompt(\"user\", \"text\", f\"{self.instruction}\\nInput: {task}\")])\n",
    "            futures = [executor.submit(f, f\"{self.instruction}\\nInput: {x}\") for x in self.tasks]\n",
    "        return [f.result() for f in futures]"
   ]
  },
  {
   "cell_type": "markdown",
   "id": "2fe5df5d-de54-4a35-9c6a-0f2423c561d4",
   "metadata": {},
   "source": [
    "## Agentic workflows"
   ]
  },
  {
   "cell_type": "markdown",
   "id": "824af71e-de4c-4e62-a804-446825325ae2",
   "metadata": {},
   "source": [
    "### Prompt-Chaining: Decompose a task into sequential subtasks, where each step builds on previous results"
   ]
  },
  {
   "cell_type": "markdown",
   "id": "bb436403-d6c4-4a4c-aa8d-6c02047397e9",
   "metadata": {},
   "source": [
    "#### Example 1: Chain workflow for structured data extraction and formatting\n",
    "Each step progressively transforms raw text into a formatted table"
   ]
  },
  {
   "cell_type": "code",
   "execution_count": 99,
   "id": "7cc80523-e421-4b31-aa8d-e1e2348e95c5",
   "metadata": {},
   "outputs": [],
   "source": [
    "data_processing_steps = [\n",
    "    \"\"\"Extract only the numerical values and their associated metrics from the text.\n",
    "    Format each as 'value: metric' on a new line.\n",
    "    Example format:\n",
    "    92: customer satisfaction\n",
    "    45%: revenue growth\n",
    "    23.00: customer acquisition cost\n",
    "    \"\"\",\n",
    "    \n",
    "    \"\"\"Convert all numerical values to percentages where possible.\n",
    "    If not a percentage or points, convert to decimal (e.g., 92 points -> 92%).\n",
    "    Keep one number per line.\n",
    "    Example format:\n",
    "    92%: customer satisfaction\n",
    "    45%: revenue growth\n",
    "    23.00: customer acquisition cost\"\"\",\n",
    "    \n",
    "    \"\"\"Sort all lines in descending order by numerical value.\n",
    "    Keep the format 'value: metric' on each line.\n",
    "    Example:\n",
    "    92%: customer satisfaction\n",
    "    87%: employee satisfaction\n",
    "    43.00: customer acquisition cost\n",
    "    34%: operating margin\n",
    "    \"\"\",\n",
    "    \n",
    "    \"\"\"Format the sorted data as a markdown table with columns, without tags or enclosing quotes:\n",
    "    | Metric | Value |\n",
    "    |:--|--:|\n",
    "    | Customer Satisfaction | 92% |\n",
    "    | Customer Acquisition Cost 23.00 |\"\"\"\n",
    "]"
   ]
  },
  {
   "cell_type": "code",
   "execution_count": 100,
   "id": "e54d1d17-f96f-4465-b33d-57f716e92d02",
   "metadata": {},
   "outputs": [],
   "source": [
    "system_prompt = \"You are a helpful assistant specializing in marketing analysis.\"\n",
    "\n",
    "report = \"\"\"\n",
    "Q3 Performance Summary:\n",
    "Our customer satisfaction score rose to 92 points this quarter.\n",
    "Revenue grew by 45% compared to last year.\n",
    "Market share is now at 23% in our primary market.\n",
    "Customer churn decreased to 5% from 8%.\n",
    "New user acquisition cost is $43 per user.\n",
    "Product adoption rate increased to 78%.\n",
    "Employee satisfaction is at 87 points.\n",
    "Operating margin improved to 34%.\n",
    "\"\"\""
   ]
  },
  {
   "cell_type": "code",
   "execution_count": 101,
   "id": "720ae53f-ebc8-487b-acd5-c3a9f7aee913",
   "metadata": {},
   "outputs": [],
   "source": [
    "chainerAgent = ChainerAgent(system_prompt, data_processing_steps, report, \"gpt-4o-mini\", api_key)\n",
    "output = chainerAgent.chain()"
   ]
  },
  {
   "cell_type": "code",
   "execution_count": 102,
   "id": "b5dfb575-e47f-4801-83ad-8fca89d925cb",
   "metadata": {},
   "outputs": [
    {
     "data": {
      "text/plain": [
       "'| Metric                     | Value  |\\n|:---------------------------|-------:|\\n| Customer Satisfaction       | 92%    |\\n| Employee Satisfaction       | 87%    |\\n| Product Adoption Rate       | 78%    |\\n| Revenue Growth             | 45%    |\\n| Customer Acquisition Cost   | 43.00% |\\n| Operating Margin            | 34%    |\\n| Market Share               | 23%    |\\n| Customer Churn             | 5%     |'"
      ]
     },
     "execution_count": 102,
     "metadata": {},
     "output_type": "execute_result"
    }
   ],
   "source": [
    "output"
   ]
  },
  {
   "cell_type": "code",
   "execution_count": 70,
   "id": "11ae3e92-38f3-497d-9d94-d859bc8e793b",
   "metadata": {},
   "outputs": [
    {
     "data": {
      "text/markdown": [
       "| Metric                     | Value  |\n",
       "|:---------------------------|-------:|\n",
       "| Customer Satisfaction       | 92%    |\n",
       "| Employee Satisfaction       | 87%    |\n",
       "| Product Adoption Rate      | 78%    |\n",
       "| Revenue Growth             | 45%    |\n",
       "| Operating Margin           | 34%    |\n",
       "| Market Share               | 23%    |\n",
       "| Customer Churn             | 5%     |\n",
       "| Customer Acquisition Cost   | 43.00% |"
      ],
      "text/plain": [
       "<IPython.core.display.Markdown object>"
      ]
     },
     "metadata": {},
     "output_type": "display_data"
    }
   ],
   "source": [
    "from IPython.display import display, Markdown\n",
    "display(Markdown(output))"
   ]
  },
  {
   "cell_type": "markdown",
   "id": "e88bec81-f1fd-4788-8ef7-2b4b99f31185",
   "metadata": {},
   "source": [
    "**Expected output**\n",
    "\n",
    "| Metric | Value |\n",
    "|:--|--:|\n",
    "| Customer Satisfaction | 92% |\n",
    "| Employee Satisfaction | 87% |\n",
    "| Product Adoption Rate | 78% |\n",
    "| Revenue Growth | 45% |\n",
    "| User Acquisition Cost | 43.00 |\n",
    "| Operating Margin | 34% |\n",
    "| Market Share | 23% |\n",
    "| Previous Customer Churn | 8% |\n",
    "| Customer Churn | 5% |\n"
   ]
  },
  {
   "cell_type": "markdown",
   "id": "e0ff299e-6688-4f5d-82aa-06bbc3f9bc04",
   "metadata": {},
   "source": [
    "#### Example 2: Chain workflow to anonymise, translate and restyle text"
   ]
  },
  {
   "cell_type": "code",
   "execution_count": 72,
   "id": "d6d822b0-b2f0-481c-b525-f9d9adabb488",
   "metadata": {},
   "outputs": [],
   "source": [
    "anonymize_and_translate_steps = [\n",
    "    \"\"\"\"Perform named entity recognition NER on the text, enclosing each entity in the appropriate tag.\n",
    "    <example>\n",
    "    Before: 'Mr. Smith went to London, where he met his wife Jane Smith and his partner Leonard Farley'\n",
    "    After: 'Mr. <LASTNAME>Smith</LASTNAME> went to <CITY>London</CITY>, where he met his wife, <FIRSTNAME>Jane</FIRSTNAME><LASTNAME>Smith</LASTNAME>and his partner<FIRSTNAME>Leonard</FIRSTNAME><LASTNAME>Farley</LASTNAME>\n",
    "    </example>\n",
    "    \"\"\",\n",
    "    \n",
    "    \"\"\"Anonymize the text, replacing each entity marked with a tag with a pseudonym.\n",
    "    Make sure to preserve the meaning and content of sentence by replacing each entity with the same pseudonym.\n",
    "    <example>\n",
    "    Before: 'Mr. <LASTNAME>Smith</LASTNAME> went to <CITY>London</CITY>, where he met his wife, <FIRSTNAME>Jane</FIRSTNAME><LASTNAME>Smith</LASTNAME>and his partner<FIRSTNAME>Leonard</FIRSTNAME><LASTNAME>Farley</LASTNAME>,\n",
    "    After: 'Mr. Frum went to Balberry,where he met with his wife, Ellen Frum, and his partner, Algernon Leiter.\n",
    "    </example>\n",
    "    \"\"\",\n",
    "    \"\"\"Translate the anonymized text in Italian.\"\"\",\n",
    "    \"\"\"Turn the Italian into verses\"\"\",\n",
    "    \"\"\"Turn the verse into romanesco, in the style of Belli\"\"\",\n",
    "]"
   ]
  },
  {
   "cell_type": "code",
   "execution_count": 73,
   "id": "a3b1eab1-f293-4258-a007-686dc619e3a0",
   "metadata": {},
   "outputs": [],
   "source": [
    "secretary_prompt = \"You are a helpful secretary who values confidentiality and is adept at translations\"\n",
    "text = \"It was a rainy day in Glasgow, when brothers Chad and John Smith embarked on their journey to Rome, where they hoped they would meet General Tso and his chicken\"\n",
    "chainer2 = Chainer(system_prompt=secretary_prompt, steps=anonymize_and_translate_steps, inp=text, model=\"gpt-4o\", api_key=api_key)\n",
    "tradit = chainer2.chain()"
   ]
  },
  {
   "cell_type": "code",
   "execution_count": 74,
   "id": "cdf75771-c8a4-4937-adc4-9505724b38b3",
   "metadata": {},
   "outputs": [
    {
     "data": {
      "text/plain": [
       "\"Era 'na giornata de pioggia a Crestfield,  \\nquanno li fratelli Ethan e Oliver, co' fervore,  \\n\\nGranger s'avviaro pe' la strada ar loro destino,  \\nverso Windlow, cor sogno d'un fine divino.  \\n\\nSperaveno d'incontrà, co' 'na certa passione,  \\ner Comannante Lin e er suo pollo, 'na vera creazzione.  \""
      ]
     },
     "execution_count": 74,
     "metadata": {},
     "output_type": "execute_result"
    }
   ],
   "source": [
    "tradit"
   ]
  },
  {
   "cell_type": "markdown",
   "id": "1dd469d8-56fb-4ed5-9bb3-874090c8d1f5",
   "metadata": {},
   "source": [
    "#### Example 3: Chain workflow to create and perfect blog posts"
   ]
  },
  {
   "cell_type": "code",
   "execution_count": 115,
   "id": "873059bf-befd-43fc-9942-bd6fb4c157e3",
   "metadata": {},
   "outputs": [],
   "source": [
    "class Blogger(ChainerAgent):\n",
    "    def __init__(self, topic, target_audience, word_count, model=\"gpt-4\", api_key=None):\n",
    "        # Define the system prompt for blog post generation\n",
    "        system_prompt = \"\"\"You are a professional blog content creator who specializes in creating\n",
    "        high-quality, engaging blog posts on various topics. You follow SEO best practices\n",
    "        and create content that is both informative and engaging.\"\"\"\n",
    "        \n",
    "        # Define the steps for the blog post creation pipeline\n",
    "        steps = [\n",
    "            # Step 1: Generate an outline\n",
    "            \"\"\"Create a detailed outline for a blog post on the given topic.\n",
    "            Include a title, introduction, 4-6 main sections with subpoints, and conclusion.\n",
    "            Format the outline with clear headings and bullet points.\"\"\",\n",
    "            \n",
    "            # Step 2: Validate and refine the outline\n",
    "            \"\"\"Review the outline and ensure it meets these criteria:\n",
    "            - Covers the topic comprehensively\n",
    "            - Flows logically from point to point\n",
    "            - Addresses the needs of the target audience\n",
    "            - Includes specific, actionable information\n",
    "            If any criteria are not met, refine the outline accordingly.\"\"\",\n",
    "            \n",
    "            # Step 3: Expand the outline into a complete post\n",
    "            \"\"\"Based on the validated outline, write the complete blog post.\n",
    "            Include all of the following:\n",
    "            1. An engaging title\n",
    "            2. A hook-filled introduction\n",
    "            3. Well-developed main sections with subheadings\n",
    "            4. A strong conclusion with a call-to-action\n",
    "            5. Write in a conversational but professional tone    \n",
    "            The complete post should be approximately {word_count} words.\"\"\"\n",
    "        ]\n",
    "        \n",
    "        \n",
    "        # Prepare input for the chaining process\n",
    "        input_data = f\"\"\"\n",
    "        Topic: {topic}\n",
    "        Target Audience: {target_audience}\n",
    "        Approximate Word Count: {word_count}\n",
    "        \"\"\"\n",
    "        \n",
    "        # Initialize the parent class\n",
    "        super().__init__(system_prompt, steps, input_data, model, api_key)\n",
    "    \n",
    "    def generate_blog_post(self, verbose=True):\n",
    "        \"\"\"Generate a complete blog post using the chaining process\"\"\"\n",
    "        print(f\"🚀 Starting blog post generation process...\")\n",
    "        result = self.chain(verbose=verbose)\n",
    "        print(f\"✅ Blog post generation complete!\")\n",
    "        return result\n",
    "    \n",
    "    def save_to_file(self, filename):\n",
    "        \"\"\"Save the generated blog post to a markdown file\"\"\"\n",
    "        blog_post = self.generate_blog_post(verbose=False)\n",
    "        with open(filename, 'w') as f:\n",
    "            f.write(blog_post)\n",
    "        print(f\"📝 Blog post saved to {filename}\")"
   ]
  },
  {
   "cell_type": "code",
   "execution_count": 116,
   "id": "e32a1c13-e4b6-4146-a54a-88b46e82cfda",
   "metadata": {},
   "outputs": [
    {
     "name": "stdout",
     "output_type": "stream",
     "text": [
      "🚀 Starting blog post generation process...\n",
      "STEP: 0\n",
      "# Outline for Blog Post: \"The Philosophy of Logic: Bridging Thought and Reason\"\n",
      "\n",
      "## Introduction \n",
      "- Brief overview of logic as a foundational element in philosophy, computer science, and mathematics.\n",
      "- Explain the significance of exploring the philosophy of logic for advanced students in these fields.\n",
      "- Present the main questions to be answered in the post: What is the philosophy of logic? How does it intersect with other disciplines? Why is it important?\n",
      "\n",
      "---\n",
      "\n",
      "## I. Understanding the Basics of Logic\n",
      "### A. Definition and History of Logic\n",
      "   - Explain what logic is and its role in reasoning.\n",
      "   - Historical development of logic from Aristotle to contemporary logicians.\n",
      "\n",
      "### B. Different Types of Logic\n",
      "   - **Formal Logic**: Rules and symbols used in mathematical reasoning.\n",
      "   - **Informal Logic**: Everyday reasoning and argumentation.\n",
      "   - **Philosophical Logic**: Issues involving meaning, reference, and necessity.\n",
      "\n",
      "---\n",
      "\n",
      "## II. The Nature of Logical Truth\n",
      "### A. What Constitutes Logical Truth?\n",
      "   - Definition of logical truth and how it differs from empirical truth.\n",
      "   - Examples of logical truths in various systems.\n",
      "\n",
      "### B. Theories of Truth\n",
      "   - Discuss correspondence theory, coherence theory, and pragmatic theory of truth.\n",
      "   - Implications for philosophers regarding the nature of logical statements.\n",
      "\n",
      "---\n",
      "\n",
      "## III. Logic and Language\n",
      "### A. The Relationship Between Logic and Linguistics\n",
      "   - How logical structures influence language.\n",
      "   - The role of logic in understanding meaning and implication in language.\n",
      "\n",
      "### B. The Role of Symbolism\n",
      "   - Importance of symbolic logic in formalizing philosophical arguments.\n",
      "   - Examples of symbolic notation and its benefits for philosophical clarity.\n",
      "\n",
      "---\n",
      "\n",
      "## IV. Paradoxes and Challenges in Logic\n",
      "### A. Common Logical Paradoxes\n",
      "   - Overview of significant paradoxes, such as the Liar Paradox and Russell's Paradox.\n",
      "   - Discussion of their implications for logical systems and philosophy.\n",
      "\n",
      "### B. Critiques of Traditional Logic\n",
      "   - Examination of alternative logical frameworks (e.g., Intuitionism, Paraconsistent Logic).\n",
      "   - Address the challenges traditional logic faces from non-classical approaches.\n",
      "\n",
      "---\n",
      "\n",
      "## V. Applications of Logic in Computer Science and Mathematics\n",
      "### A. Logic in Computer Science\n",
      "   - The importance of formal logic systems in programming languages and algorithms.\n",
      "   - Use of logic in artificial intelligence and automated reasoning.\n",
      "\n",
      "### B. Logic in Mathematics\n",
      "   - The role of logic in proof theory, set theory, and foundational mathematics.\n",
      "   - Discuss influential logicians like Gödel and their contributions to mathematics.\n",
      "\n",
      "---\n",
      "\n",
      "## Conclusion\n",
      "- Recap of the intersections between philosophy, logic, language, and other disciplines.\n",
      "- Emphasize the continuing relevance of the philosophy of logic in contemporary discourse.\n",
      "- Call to action: Encourage readers to explore further into the philosophy of logic and its implications for their fields of study.\n",
      "\n",
      "---\n",
      "\n",
      "### Word Count: Approximately 1400 Words\n",
      "- Section emphasis may shift based on depth of discussion and relevance to current philosophical debates.\n",
      "====================================\n",
      "STEP: 1\n",
      "Upon reviewing the outline against your specified criteria, it appears to cover the topic comprehensively and flows logically. However, a few refinements can enhance its depth, clarity, and applicability to the target audience, ensuring that it includes more actionable content and specifics relevant to advanced students. Below is the refined outline:\n",
      "\n",
      "# Outline for Blog Post: \"The Philosophy of Logic: Bridging Thought and Reason\"\n",
      "\n",
      "## Introduction \n",
      "- Brief overview of logic as a foundational element in philosophy, computer science, and mathematics.\n",
      "- Explain the significance of exploring the philosophy of logic for advanced students in these fields, emphasizing its relevance for critical thinking and problem-solving.\n",
      "- Present the main questions to be addressed in the post:\n",
      "  - What is the philosophy of logic?\n",
      "  - How does it intersect with other disciplines?\n",
      "  - Why is it important?\n",
      "  \n",
      "---\n",
      "\n",
      "## I. Understanding the Basics of Logic\n",
      "### A. Definition and History of Logic\n",
      "   - Define logic and discuss its foundational role in rational discourse.\n",
      "   - Summarize the historical development of logic from Aristotle to contemporary logicians. \n",
      "     - Mention key figures (e.g., Frege, Russell, Quine) and movements (e.g., Classical Logic, Modern Logic).\n",
      "\n",
      "### B. Different Types of Logic\n",
      "   - **Formal Logic**: Overview of formal systems and the importance of syntax vs. semantics.\n",
      "   - **Informal Logic**: Explore everyday reasoning, argument evaluation, and critical thinking skills.\n",
      "   - **Philosophical Logic**: Discuss topics such as modal logic, non-classical logics, and their implications for meaning and reference.\n",
      "\n",
      "---\n",
      "\n",
      "## II. The Nature of Logical Truth\n",
      "### A. What Constitutes Logical Truth?\n",
      "   - Define logical truth and compare it with empirical truth, emphasizing implications for philosophical inquiry.\n",
      "   - Provide specific examples of logical truths (e.g., tautologies, contradictions) across different logical systems to illustrate their foundational role.\n",
      "\n",
      "### B. Theories of Truth\n",
      "   - Exploration of various theories: \n",
      "     - **Correspondence Theory**: Assertion about reality.\n",
      "     - **Coherence Theory**: Logically consistent set of beliefs.\n",
      "     - **Pragmatic Theory**: Truth as utility in practice.\n",
      "   - Discuss the implications of these theories for philosophical reasoning and logical analysis.\n",
      "\n",
      "---\n",
      "\n",
      "## III. Logic and Language\n",
      "### A. The Relationship Between Logic and Linguistics\n",
      "   - Analyze how logical structures inform grammatical and semantic aspects of language.\n",
      "   - Discuss the relevance of formal semantics and logic in understanding linguistic meaning and implication.\n",
      "\n",
      "### B. The Role of Symbolism\n",
      "   - Emphasize the necessity of symbolic logic in capturing complex philosophical arguments.\n",
      "   - Illustrate this with examples of symbolic notation in philosophical debates and logical proofs (e.g., quantifiers, logical connectives).\n",
      "\n",
      "---\n",
      "\n",
      "## IV. Paradoxes and Challenges in Logic\n",
      "### A. Common Logical Paradoxes\n",
      "   - Provide an overview of significant logical paradoxes:\n",
      "     - Liar Paradox: Self-reference and its implications for truth.\n",
      "     - Russell's Paradox: Implications for set theory and foundational mathematics.\n",
      "   - Discuss their impact on the understanding of logical systems and the development of alternative logics.\n",
      "\n",
      "### B. Critiques of Traditional Logic\n",
      "   - Explore notable critiques regarding traditional logic methodologies and frameworks:\n",
      "     - **Intuitionism**: Rejecting the law of excluded middle.\n",
      "     - **Paraconsistent Logic**: Addressing contradictions without collapse.\n",
      "   - Analyze the impact of these critiques on philosophical discourse and their applications in mathematics and computer science.\n",
      "\n",
      "---\n",
      "\n",
      "## V. Applications of Logic in Computer Science and Mathematics\n",
      "### A. Logic in Computer Science\n",
      "   - Discuss the role of formal logic in programming languages, algorithms, and databases.\n",
      "   - Explore the application of logic in artificial intelligence, including natural language processing and automated theorem proving.\n",
      "\n",
      "### B. Logic in Mathematics\n",
      "   - Illustrate logic's role in proof theory, particularly in establishing the validity of mathematical arguments.\n",
      "   - Discuss significant contributions from logicians like Gödel, emphasizing his incompleteness theorems and their philosophical implications.\n",
      "\n",
      "---\n",
      "\n",
      "## Conclusion\n",
      "- Recap the interconnectedness of philosophy, logic, language, and their applications in other fields.\n",
      "- Reinforce the importance of understanding the philosophy of logic as essential for critical analysis and theoretical development.\n",
      "- Call to action: Encourage readers to engage with primary texts and contemporary discussions in the philosophy of logic, suggesting resources and online platforms (e.g., academic journals, online courses).\n",
      "\n",
      "---\n",
      "\n",
      "### Word Count: Approximately 1400 Words\n",
      "- Refinements aim to deepen the specificity and applicability of the content, ensuring that it is aligned with the understanding and needs of advanced undergraduate and graduate students in philosophy, computer science, and mathematics.\n",
      "====================================\n",
      "STEP: 2\n",
      "# The Philosophy of Logic: Bridging Thought and Reason\n",
      "\n",
      "## Introduction\n",
      "\n",
      "Imagine a world where every statement you encounter could either unravel or reinforce your understanding of reality. This realm is where the philosophy of logic resides—a profound space where the foundations of thought, reasoning, and truth meet. For advanced students in philosophy, computer science, and mathematics, delving into the philosophy of logic is not just an intellectual exercise, but a necessity that sharpens critical thinking and problem-solving skills across disciplines. \n",
      "\n",
      "This blog post aims to explore three pivotal questions: What is the philosophy of logic? How does it intersect with other fields? And most importantly, why is it significant? Let’s embark on this thoughtful journey to uncover the essential role that logic plays in our intellectual lives.\n",
      "\n",
      "---\n",
      "\n",
      "## I. Understanding the Basics of Logic\n",
      "\n",
      "### A. Definition and History of Logic\n",
      "\n",
      "At its core, logic is the study of reasoning. It provides the structure through which we derive conclusions from premises, ensuring that our arguments are sound and valid. The historical development of logic is rich and complex, tracing back to ancient philosophers like Aristotle, who laid the groundwork for deductive reasoning. \n",
      "\n",
      "As we progress through time, key figures emerge: Gottlob Frege introduced a formal language for mathematics, while Bertrand Russell and Kurt Gödel shifted our understanding of paradoxes and foundations of mathematics. Understanding these historical milestones not only enriches our grasp of logical systems but also enhances our ability to navigate modern philosophical discussions.\n",
      "\n",
      "### B. Different Types of Logic\n",
      "\n",
      "Logic isn't monolithic; it encompasses various branches that serve different purposes:\n",
      "\n",
      "- **Formal Logic**: This involves the rigorous use of symbols and syntactical rules. Formal systems focus extensively on the structure of arguments, emphasizing syntax over semantics. Understanding these systems is crucial for anyone interested in mathematics or theoretical computer science.\n",
      "\n",
      "- **Informal Logic**: Moving away from formal systems, informal logic deals with everyday reasoning. This branch emphasizes argument evaluation and critical thinking, encouraging us to analyze how reasoning functions in natural language.\n",
      "\n",
      "- **Philosophical Logic**: Here, we confront more nuanced issues of meaning, reference, and necessity. Modal logic, for instance, explores possibilities and necessities, expanding the boundaries of traditional logic.\n",
      "\n",
      "---\n",
      "\n",
      "## II. The Nature of Logical Truth\n",
      "\n",
      "### A. What Constitutes Logical Truth?\n",
      "\n",
      "When we speak of logical truth, we're referring to propositions that hold true under all interpretations. This is different from empirical truths, which may only hold in specific contexts. Take, for example, tautologies like \"It is raining or it is not raining\"; these are unconditionally true, landing at the heart of logical analysis. \n",
      "\n",
      "This distinction is vital for philosophical inquiry, as it influences how we approach problems in logic and reasoning.\n",
      "\n",
      "### B. Theories of Truth\n",
      "\n",
      "Several theories provide frameworks for understanding truth:\n",
      "\n",
      "- **Correspondence Theory**: Suggests that truth corresponds to reality. If I say, \"The sky is blue,\" this is true if, and only if, the sky is indeed blue.\n",
      "\n",
      "- **Coherence Theory**: Proposes that truth is part of a logically consistent set of beliefs. If my beliefs support one another, they may be true by virtue of that coherence.\n",
      "\n",
      "- **Pragmatic Theory**: Emphasizes the practical utility of truth. A statement is considered true if it is beneficial or useful in a given context.\n",
      "\n",
      "Each of these theories has significant implications for philosophical reasoning, shaping how we build and evaluate logical systems.\n",
      "\n",
      "---\n",
      "\n",
      "## III. Logic and Language\n",
      "\n",
      "### A. The Relationship Between Logic and Linguistics\n",
      "\n",
      "Logic and language are intricately linked. Logical structures often inform the grammatical and semantic aspects of language, guiding how meanings are constructed and understood. Understanding this relationship helps illuminate the role that logical reasoning plays in our daily communications.\n",
      "\n",
      "For instance, formal semantics, which blends linguistic theory with logical principles, reveals how we extract meaning from sentences—even in complex philosophical arguments.\n",
      "\n",
      "### B. The Role of Symbolism\n",
      "\n",
      "Symbolic logic serves as a powerful tool for capturing complex philosophical arguments. Consider how quantifiers (like \"all\" and \"some\") and logical connectives (such as \"and,\" \"or,\" and \"not\") can transform everyday speech into structured expressions that exemplify clear reasoning.\n",
      "\n",
      "By employing symbolic logic, we enhance our analytical clarity, allowing for more rigorous debates and discussions around philosophical propositions.\n",
      "\n",
      "---\n",
      "\n",
      "## IV. Paradoxes and Challenges in Logic\n",
      "\n",
      "### A. Common Logical Paradoxes\n",
      "\n",
      "Paradoxes serve as intriguing challenges in the field of logic. The **Liar Paradox**, for example, presents us with the statement \"This statement is false.\" If the statement is true, then it must be false, leading to a contradiction. Such paradoxes force us to rethink established logical systems and their implications.\n",
      "\n",
      "Another significant paradox is **Russell's Paradox**, which challenges set theory by illustrating the problems of self-reference in sets. These paradoxical scenarios stimulate discussion and the development of alternative logical\n",
      "====================================\n",
      "✅ Blog post generation complete!\n"
     ]
    }
   ],
   "source": [
    "blogger = Blogger(\n",
    "    topic=\"Philosophy of Logic\",\n",
    "    target_audience=\"advanced undergraduate and graduate students in Philosophy, Computer Science and Mathematics\",\n",
    "    word_count=1400,\n",
    "    model=\"gpt-4o-mini\",\n",
    "    api_key=api_key\n",
    ")\n",
    "post = blogger.generate_blog_post()"
   ]
  },
  {
   "cell_type": "code",
   "execution_count": 18,
   "id": "54c0291f-c37c-4605-898c-a32f6ba3486d",
   "metadata": {},
   "outputs": [],
   "source": [
    "# display(Markdown(post))"
   ]
  },
  {
   "cell_type": "markdown",
   "id": "3deb19c4-273b-4c73-95da-a5e8117afde1",
   "metadata": {},
   "source": [
    "### Routing: Dynamically selects specialized LLM paths based on input characteristics"
   ]
  },
  {
   "cell_type": "code",
   "execution_count": 117,
   "id": "3a5e2bb7-09b8-4a85-b400-c54fca987cb4",
   "metadata": {},
   "outputs": [],
   "source": [
    "router = RouterAgent(\n",
    "    \"you are a helpful assistant specializing in routing support tickets to the appropriate department\",\n",
    "    model=\"gpt-4o-mini\",\n",
    "    choices=[\"billing\", \"technical\", \"account\", \"product\"],\n",
    "    api_key=api_key,\n",
    "    input_data=\"\"\"Ticket 2:\n",
    "    Subject: Unexpected charge on my card\n",
    "    Message: Hello, I just noticed a charge of $49.99 on my credit card from your company, but I thought\n",
    "    I was on the $29.99 plan. Can you explain this charge and adjust it if it's a mistake?\n",
    "    Thanks,\n",
    "    Sarah\"\"\"\n",
    ")"
   ]
  },
  {
   "cell_type": "code",
   "execution_count": 118,
   "id": "a2d953fc-c85f-45c1-b9de-5f390506b101",
   "metadata": {},
   "outputs": [],
   "source": [
    "route = router.route()"
   ]
  },
  {
   "cell_type": "code",
   "execution_count": 119,
   "id": "b4e84528-299a-4202-be98-7d7f0dc4172c",
   "metadata": {},
   "outputs": [
    {
     "data": {
      "text/plain": [
       "'Based on the provided data for Ticket 2, the most appropriate department to route this ticket to is **billing**. The issue described involves an unexpected charge and a request for clarification and potential adjustment, which falls under billing inquiries.'"
      ]
     },
     "execution_count": 119,
     "metadata": {},
     "output_type": "execute_result"
    }
   ],
   "source": [
    "route"
   ]
  },
  {
   "cell_type": "code",
   "execution_count": 120,
   "id": "57d02e97-9780-42d8-9809-2d0dd18e7b76",
   "metadata": {},
   "outputs": [
    {
     "ename": "AttributeError",
     "evalue": "'LLMClient' object has no attribute 'chat'",
     "output_type": "error",
     "traceback": [
      "\u001b[31m---------------------------------------------------------------------------\u001b[39m",
      "\u001b[31mAttributeError\u001b[39m                            Traceback (most recent call last)",
      "\u001b[36mCell\u001b[39m\u001b[36m \u001b[39m\u001b[32mIn[120]\u001b[39m\u001b[32m, line 15\u001b[39m\n\u001b[32m      1\u001b[39m ticket=\u001b[33m\"\"\"\u001b[39m\u001b[33mTicket 3:\u001b[39m\n\u001b[32m      2\u001b[39m \u001b[33m----------------------------------------\u001b[39m\n\u001b[32m      3\u001b[39m \u001b[33mSubject: How to export data?\u001b[39m\n\u001b[32m   (...)\u001b[39m\u001b[32m      6\u001b[39m \u001b[33m    Best regards,\u001b[39m\n\u001b[32m      7\u001b[39m \u001b[33m    Mike\u001b[39m\u001b[33m\"\"\"\u001b[39m\n\u001b[32m      8\u001b[39m router = Router(\n\u001b[32m      9\u001b[39m     \u001b[33m\"\u001b[39m\u001b[33myou are a helpful assistant specializing in routing support tickets to the appropriate department\u001b[39m\u001b[33m\"\u001b[39m,\n\u001b[32m     10\u001b[39m     model=\u001b[33m\"\u001b[39m\u001b[33mgpt-4o-mini\u001b[39m\u001b[33m\"\u001b[39m,\n\u001b[32m   (...)\u001b[39m\u001b[32m     13\u001b[39m     input_data=ticket\n\u001b[32m     14\u001b[39m )\n\u001b[32m---> \u001b[39m\u001b[32m15\u001b[39m route = \u001b[43mrouter\u001b[49m\u001b[43m.\u001b[49m\u001b[43mroute\u001b[49m\u001b[43m(\u001b[49m\u001b[43m)\u001b[49m\n\u001b[32m     16\u001b[39m \u001b[38;5;28mprint\u001b[39m(route)\n",
      "\u001b[36mCell\u001b[39m\u001b[36m \u001b[39m\u001b[32mIn[106]\u001b[39m\u001b[32m, line 11\u001b[39m, in \u001b[36mRouter.route\u001b[39m\u001b[34m(self)\u001b[39m\n\u001b[32m      9\u001b[39m \u001b[38;5;28mself\u001b[39m.routing_prompt = LLMPrompt(\u001b[33m\"\u001b[39m\u001b[33muser\u001b[39m\u001b[33m\"\u001b[39m, \u001b[33m\"\u001b[39m\u001b[33mtext\u001b[39m\u001b[33m\"\u001b[39m, routing_prompt_text)\n\u001b[32m     10\u001b[39m chain = [\u001b[38;5;28mself\u001b[39m.system_prompt, \u001b[38;5;28mself\u001b[39m.routing_prompt.message]\n\u001b[32m---> \u001b[39m\u001b[32m11\u001b[39m response = \u001b[38;5;28;43mself\u001b[39;49m\u001b[43m.\u001b[49m\u001b[43mclient\u001b[49m\u001b[43m.\u001b[49m\u001b[43mchat\u001b[49m.completions.create(\n\u001b[32m     12\u001b[39m     model=\u001b[38;5;28mself\u001b[39m.model,\n\u001b[32m     13\u001b[39m     messages=chain,\n\u001b[32m     14\u001b[39m     max_completion_tokens=\u001b[32m1000\u001b[39m)\n\u001b[32m     15\u001b[39m response_content = response.choices[\u001b[32m0\u001b[39m].message.content\n\u001b[32m     16\u001b[39m \u001b[38;5;28;01mreturn\u001b[39;00m response_content\n",
      "\u001b[31mAttributeError\u001b[39m: 'LLMClient' object has no attribute 'chat'"
     ]
    }
   ],
   "source": [
    "ticket=\"\"\"Ticket 3:\n",
    "----------------------------------------\n",
    "Subject: How to export data?\n",
    "    Message: I need to export all my project data to Excel. I've looked through the docs but can't\n",
    "    figure out how to do a bulk export. Is this possible? If so, could you walk me through the steps?\n",
    "    Best regards,\n",
    "    Mike\"\"\"\n",
    "router = Router(\n",
    "    \"you are a helpful assistant specializing in routing support tickets to the appropriate department\",\n",
    "    model=\"gpt-4o-mini\",\n",
    "    choices=[\"billing\", \"technical\", \"account\", \"product\"],\n",
    "    api_key=api_key,\n",
    "    input_data=ticket\n",
    ")\n",
    "route = router.route()\n",
    "print(route)"
   ]
  },
  {
   "cell_type": "markdown",
   "id": "24273b4f-d6b6-4b67-8392-8c4d2d671e41",
   "metadata": {},
   "source": [
    "### Parallelization: Distributes independent subtasks across multiple LLMs for concurrent processing"
   ]
  },
  {
   "cell_type": "markdown",
   "id": "074a0380-241c-42c6-9e7a-f8af367be9d5",
   "metadata": {},
   "source": [
    "#### Example: Parallelization workflow for stakeholder impact analysis\n",
    "Process impact analysis for multiple stakeholder groups concurrently"
   ]
  },
  {
   "cell_type": "code",
   "execution_count": 103,
   "id": "00d3bc0f-71d9-42b6-b198-cd510afcc7ba",
   "metadata": {},
   "outputs": [],
   "source": [
    "stakeholders = [\n",
    "    \"\"\"Customers:\n",
    "    - Price sensitive\n",
    "    - Want better tech\n",
    "    - Environmental concerns\"\"\",\n",
    "    \n",
    "    \"\"\"Employees:\n",
    "    - Job security worries\n",
    "    - Need new skills\n",
    "    - Want clear direction\"\"\",\n",
    "    \n",
    "    \"\"\"Investors:\n",
    "    - Expect growth\n",
    "    - Want cost control\n",
    "    - Risk concerns\"\"\",\n",
    "    \n",
    "    \"\"\"Suppliers:\n",
    "    - Capacity constraints\n",
    "    - Price pressures\n",
    "    - Tech transitions\"\"\"\n",
    "]\n",
    "instruction =  \"\"\"Analyze how market changes will impact this stakeholder group.\n",
    "    Provide specific impacts and recommended actions.\n",
    "    Format with clear sections and priorities.\"\"\""
   ]
  },
  {
   "cell_type": "code",
   "execution_count": 104,
   "id": "ca8a2634-77a7-482f-917d-41159e372386",
   "metadata": {},
   "outputs": [
    {
     "ename": "TypeError",
     "evalue": "LLMClient.call() got an unexpected keyword argument 'max_completion_tokens'",
     "output_type": "error",
     "traceback": [
      "\u001b[31m---------------------------------------------------------------------------\u001b[39m",
      "\u001b[31mTypeError\u001b[39m                                 Traceback (most recent call last)",
      "\u001b[36mCell\u001b[39m\u001b[36m \u001b[39m\u001b[32mIn[104]\u001b[39m\u001b[32m, line 9\u001b[39m\n\u001b[32m      1\u001b[39m parallel = ParallelAgent(\n\u001b[32m      2\u001b[39m     \u001b[33m\"\u001b[39m\u001b[33mYou are an expert analyst, assessing stakeholder involvement\u001b[39m\u001b[33m\"\u001b[39m,\n\u001b[32m      3\u001b[39m     stakeholders,\n\u001b[32m   (...)\u001b[39m\u001b[32m      6\u001b[39m     api_key\n\u001b[32m      7\u001b[39m )\n\u001b[32m----> \u001b[39m\u001b[32m9\u001b[39m analysis = \u001b[43mparallel\u001b[49m\u001b[43m.\u001b[49m\u001b[43mrun_parallel\u001b[49m\u001b[43m(\u001b[49m\u001b[32;43m3\u001b[39;49m\u001b[43m)\u001b[49m\n",
      "\u001b[36mCell\u001b[39m\u001b[36m \u001b[39m\u001b[32mIn[98]\u001b[39m\u001b[32m, line 14\u001b[39m, in \u001b[36mParallelAgent.run_parallel\u001b[39m\u001b[34m(self, n_workers)\u001b[39m\n\u001b[32m      9\u001b[39m     f = \u001b[38;5;28;01mlambda\u001b[39;00m task : \u001b[38;5;28mself\u001b[39m.client.call(\n\u001b[32m     10\u001b[39m         model=\u001b[38;5;28mself\u001b[39m.model,\n\u001b[32m     11\u001b[39m         max_completion_tokens=\u001b[32m1000\u001b[39m,\n\u001b[32m     12\u001b[39m         messages = [\u001b[38;5;28mself\u001b[39m.system_prompt, LLMPrompt(\u001b[33m\"\u001b[39m\u001b[33muser\u001b[39m\u001b[33m\"\u001b[39m, \u001b[33m\"\u001b[39m\u001b[33mtext\u001b[39m\u001b[33m\"\u001b[39m, \u001b[33mf\u001b[39m\u001b[33m\"\u001b[39m\u001b[38;5;132;01m{\u001b[39;00m\u001b[38;5;28mself\u001b[39m.instruction\u001b[38;5;132;01m}\u001b[39;00m\u001b[38;5;130;01m\\n\u001b[39;00m\u001b[33mInput: \u001b[39m\u001b[38;5;132;01m{\u001b[39;00mtask\u001b[38;5;132;01m}\u001b[39;00m\u001b[33m\"\u001b[39m)])\n\u001b[32m     13\u001b[39m     futures = [executor.submit(f, \u001b[33mf\u001b[39m\u001b[33m\"\u001b[39m\u001b[38;5;132;01m{\u001b[39;00m\u001b[38;5;28mself\u001b[39m.instruction\u001b[38;5;132;01m}\u001b[39;00m\u001b[38;5;130;01m\\n\u001b[39;00m\u001b[33mInput: \u001b[39m\u001b[38;5;132;01m{\u001b[39;00mx\u001b[38;5;132;01m}\u001b[39;00m\u001b[33m\"\u001b[39m) \u001b[38;5;28;01mfor\u001b[39;00m x \u001b[38;5;129;01min\u001b[39;00m \u001b[38;5;28mself\u001b[39m.tasks]\n\u001b[32m---> \u001b[39m\u001b[32m14\u001b[39m \u001b[38;5;28;01mreturn\u001b[39;00m \u001b[43m[\u001b[49m\u001b[43mf\u001b[49m\u001b[43m.\u001b[49m\u001b[43mresult\u001b[49m\u001b[43m(\u001b[49m\u001b[43m)\u001b[49m\u001b[43m \u001b[49m\u001b[38;5;28;43;01mfor\u001b[39;49;00m\u001b[43m \u001b[49m\u001b[43mf\u001b[49m\u001b[43m \u001b[49m\u001b[38;5;129;43;01min\u001b[39;49;00m\u001b[43m \u001b[49m\u001b[43mfutures\u001b[49m\u001b[43m]\u001b[49m\n",
      "\u001b[36mCell\u001b[39m\u001b[36m \u001b[39m\u001b[32mIn[98]\u001b[39m\u001b[32m, line 14\u001b[39m, in \u001b[36m<listcomp>\u001b[39m\u001b[34m(.0)\u001b[39m\n\u001b[32m      9\u001b[39m     f = \u001b[38;5;28;01mlambda\u001b[39;00m task : \u001b[38;5;28mself\u001b[39m.client.call(\n\u001b[32m     10\u001b[39m         model=\u001b[38;5;28mself\u001b[39m.model,\n\u001b[32m     11\u001b[39m         max_completion_tokens=\u001b[32m1000\u001b[39m,\n\u001b[32m     12\u001b[39m         messages = [\u001b[38;5;28mself\u001b[39m.system_prompt, LLMPrompt(\u001b[33m\"\u001b[39m\u001b[33muser\u001b[39m\u001b[33m\"\u001b[39m, \u001b[33m\"\u001b[39m\u001b[33mtext\u001b[39m\u001b[33m\"\u001b[39m, \u001b[33mf\u001b[39m\u001b[33m\"\u001b[39m\u001b[38;5;132;01m{\u001b[39;00m\u001b[38;5;28mself\u001b[39m.instruction\u001b[38;5;132;01m}\u001b[39;00m\u001b[38;5;130;01m\\n\u001b[39;00m\u001b[33mInput: \u001b[39m\u001b[38;5;132;01m{\u001b[39;00mtask\u001b[38;5;132;01m}\u001b[39;00m\u001b[33m\"\u001b[39m)])\n\u001b[32m     13\u001b[39m     futures = [executor.submit(f, \u001b[33mf\u001b[39m\u001b[33m\"\u001b[39m\u001b[38;5;132;01m{\u001b[39;00m\u001b[38;5;28mself\u001b[39m.instruction\u001b[38;5;132;01m}\u001b[39;00m\u001b[38;5;130;01m\\n\u001b[39;00m\u001b[33mInput: \u001b[39m\u001b[38;5;132;01m{\u001b[39;00mx\u001b[38;5;132;01m}\u001b[39;00m\u001b[33m\"\u001b[39m) \u001b[38;5;28;01mfor\u001b[39;00m x \u001b[38;5;129;01min\u001b[39;00m \u001b[38;5;28mself\u001b[39m.tasks]\n\u001b[32m---> \u001b[39m\u001b[32m14\u001b[39m \u001b[38;5;28;01mreturn\u001b[39;00m [\u001b[43mf\u001b[49m\u001b[43m.\u001b[49m\u001b[43mresult\u001b[49m\u001b[43m(\u001b[49m\u001b[43m)\u001b[49m \u001b[38;5;28;01mfor\u001b[39;00m f \u001b[38;5;129;01min\u001b[39;00m futures]\n",
      "\u001b[36mFile \u001b[39m\u001b[32m~/.local/share/uv/python/cpython-3.11.11-macos-aarch64-none/lib/python3.11/concurrent/futures/_base.py:449\u001b[39m, in \u001b[36mFuture.result\u001b[39m\u001b[34m(self, timeout)\u001b[39m\n\u001b[32m    447\u001b[39m     \u001b[38;5;28;01mraise\u001b[39;00m CancelledError()\n\u001b[32m    448\u001b[39m \u001b[38;5;28;01melif\u001b[39;00m \u001b[38;5;28mself\u001b[39m._state == FINISHED:\n\u001b[32m--> \u001b[39m\u001b[32m449\u001b[39m     \u001b[38;5;28;01mreturn\u001b[39;00m \u001b[38;5;28;43mself\u001b[39;49m\u001b[43m.\u001b[49m\u001b[43m__get_result\u001b[49m\u001b[43m(\u001b[49m\u001b[43m)\u001b[49m\n\u001b[32m    451\u001b[39m \u001b[38;5;28mself\u001b[39m._condition.wait(timeout)\n\u001b[32m    453\u001b[39m \u001b[38;5;28;01mif\u001b[39;00m \u001b[38;5;28mself\u001b[39m._state \u001b[38;5;129;01min\u001b[39;00m [CANCELLED, CANCELLED_AND_NOTIFIED]:\n",
      "\u001b[36mFile \u001b[39m\u001b[32m~/.local/share/uv/python/cpython-3.11.11-macos-aarch64-none/lib/python3.11/concurrent/futures/_base.py:401\u001b[39m, in \u001b[36mFuture.__get_result\u001b[39m\u001b[34m(self)\u001b[39m\n\u001b[32m    399\u001b[39m \u001b[38;5;28;01mif\u001b[39;00m \u001b[38;5;28mself\u001b[39m._exception:\n\u001b[32m    400\u001b[39m     \u001b[38;5;28;01mtry\u001b[39;00m:\n\u001b[32m--> \u001b[39m\u001b[32m401\u001b[39m         \u001b[38;5;28;01mraise\u001b[39;00m \u001b[38;5;28mself\u001b[39m._exception\n\u001b[32m    402\u001b[39m     \u001b[38;5;28;01mfinally\u001b[39;00m:\n\u001b[32m    403\u001b[39m         \u001b[38;5;66;03m# Break a reference cycle with the exception in self._exception\u001b[39;00m\n\u001b[32m    404\u001b[39m         \u001b[38;5;28mself\u001b[39m = \u001b[38;5;28;01mNone\u001b[39;00m\n",
      "\u001b[36mFile \u001b[39m\u001b[32m~/.local/share/uv/python/cpython-3.11.11-macos-aarch64-none/lib/python3.11/concurrent/futures/thread.py:58\u001b[39m, in \u001b[36m_WorkItem.run\u001b[39m\u001b[34m(self)\u001b[39m\n\u001b[32m     55\u001b[39m     \u001b[38;5;28;01mreturn\u001b[39;00m\n\u001b[32m     57\u001b[39m \u001b[38;5;28;01mtry\u001b[39;00m:\n\u001b[32m---> \u001b[39m\u001b[32m58\u001b[39m     result = \u001b[38;5;28;43mself\u001b[39;49m\u001b[43m.\u001b[49m\u001b[43mfn\u001b[49m\u001b[43m(\u001b[49m\u001b[43m*\u001b[49m\u001b[38;5;28;43mself\u001b[39;49m\u001b[43m.\u001b[49m\u001b[43margs\u001b[49m\u001b[43m,\u001b[49m\u001b[43m \u001b[49m\u001b[43m*\u001b[49m\u001b[43m*\u001b[49m\u001b[38;5;28;43mself\u001b[39;49m\u001b[43m.\u001b[49m\u001b[43mkwargs\u001b[49m\u001b[43m)\u001b[49m\n\u001b[32m     59\u001b[39m \u001b[38;5;28;01mexcept\u001b[39;00m \u001b[38;5;167;01mBaseException\u001b[39;00m \u001b[38;5;28;01mas\u001b[39;00m exc:\n\u001b[32m     60\u001b[39m     \u001b[38;5;28mself\u001b[39m.future.set_exception(exc)\n",
      "\u001b[36mCell\u001b[39m\u001b[36m \u001b[39m\u001b[32mIn[98]\u001b[39m\u001b[32m, line 9\u001b[39m, in \u001b[36mParallelAgent.run_parallel.<locals>.<lambda>\u001b[39m\u001b[34m(task)\u001b[39m\n\u001b[32m      7\u001b[39m \u001b[38;5;28;01mdef\u001b[39;00m\u001b[38;5;250m \u001b[39m\u001b[34mrun_parallel\u001b[39m(\u001b[38;5;28mself\u001b[39m, n_workers=\u001b[32m3\u001b[39m):    \n\u001b[32m      8\u001b[39m     \u001b[38;5;28;01mwith\u001b[39;00m ThreadPoolExecutor(max_workers=n_workers) \u001b[38;5;28;01mas\u001b[39;00m executor:\n\u001b[32m----> \u001b[39m\u001b[32m9\u001b[39m         f = \u001b[38;5;28;01mlambda\u001b[39;00m task : \u001b[38;5;28;43mself\u001b[39;49m\u001b[43m.\u001b[49m\u001b[43mclient\u001b[49m\u001b[43m.\u001b[49m\u001b[43mcall\u001b[49m\u001b[43m(\u001b[49m\n\u001b[32m     10\u001b[39m \u001b[43m            \u001b[49m\u001b[43mmodel\u001b[49m\u001b[43m=\u001b[49m\u001b[38;5;28;43mself\u001b[39;49m\u001b[43m.\u001b[49m\u001b[43mmodel\u001b[49m\u001b[43m,\u001b[49m\n\u001b[32m     11\u001b[39m \u001b[43m            \u001b[49m\u001b[43mmax_completion_tokens\u001b[49m\u001b[43m=\u001b[49m\u001b[32;43m1000\u001b[39;49m\u001b[43m,\u001b[49m\n\u001b[32m     12\u001b[39m \u001b[43m            \u001b[49m\u001b[43mmessages\u001b[49m\u001b[43m \u001b[49m\u001b[43m=\u001b[49m\u001b[43m \u001b[49m\u001b[43m[\u001b[49m\u001b[38;5;28;43mself\u001b[39;49m\u001b[43m.\u001b[49m\u001b[43msystem_prompt\u001b[49m\u001b[43m,\u001b[49m\u001b[43m \u001b[49m\u001b[43mLLMPrompt\u001b[49m\u001b[43m(\u001b[49m\u001b[33;43m\"\u001b[39;49m\u001b[33;43muser\u001b[39;49m\u001b[33;43m\"\u001b[39;49m\u001b[43m,\u001b[49m\u001b[43m \u001b[49m\u001b[33;43m\"\u001b[39;49m\u001b[33;43mtext\u001b[39;49m\u001b[33;43m\"\u001b[39;49m\u001b[43m,\u001b[49m\u001b[43m \u001b[49m\u001b[33;43mf\u001b[39;49m\u001b[33;43m\"\u001b[39;49m\u001b[38;5;132;43;01m{\u001b[39;49;00m\u001b[38;5;28;43mself\u001b[39;49m\u001b[43m.\u001b[49m\u001b[43minstruction\u001b[49m\u001b[38;5;132;43;01m}\u001b[39;49;00m\u001b[38;5;130;43;01m\\n\u001b[39;49;00m\u001b[33;43mInput: \u001b[39;49m\u001b[38;5;132;43;01m{\u001b[39;49;00m\u001b[43mtask\u001b[49m\u001b[38;5;132;43;01m}\u001b[39;49;00m\u001b[33;43m\"\u001b[39;49m\u001b[43m)\u001b[49m\u001b[43m]\u001b[49m\u001b[43m)\u001b[49m\n\u001b[32m     13\u001b[39m         futures = [executor.submit(f, \u001b[33mf\u001b[39m\u001b[33m\"\u001b[39m\u001b[38;5;132;01m{\u001b[39;00m\u001b[38;5;28mself\u001b[39m.instruction\u001b[38;5;132;01m}\u001b[39;00m\u001b[38;5;130;01m\\n\u001b[39;00m\u001b[33mInput: \u001b[39m\u001b[38;5;132;01m{\u001b[39;00mx\u001b[38;5;132;01m}\u001b[39;00m\u001b[33m\"\u001b[39m) \u001b[38;5;28;01mfor\u001b[39;00m x \u001b[38;5;129;01min\u001b[39;00m \u001b[38;5;28mself\u001b[39m.tasks]\n\u001b[32m     14\u001b[39m     \u001b[38;5;28;01mreturn\u001b[39;00m [f.result() \u001b[38;5;28;01mfor\u001b[39;00m f \u001b[38;5;129;01min\u001b[39;00m futures]\n",
      "\u001b[31mTypeError\u001b[39m: LLMClient.call() got an unexpected keyword argument 'max_completion_tokens'"
     ]
    }
   ],
   "source": [
    "parallel = ParallelAgent(\n",
    "    \"You are an expert analyst, assessing stakeholder involvement\",\n",
    "    stakeholders,\n",
    "    instruction,\n",
    "    \"gpt-4o-mini\",\n",
    "    api_key\n",
    ")\n",
    "\n",
    "analysis = parallel.run_parallel(3)"
   ]
  },
  {
   "cell_type": "code",
   "execution_count": 105,
   "id": "3af61537-a4e3-489a-aed1-c53c39abc551",
   "metadata": {},
   "outputs": [
    {
     "ename": "NameError",
     "evalue": "name 'analysis' is not defined",
     "output_type": "error",
     "traceback": [
      "\u001b[31m---------------------------------------------------------------------------\u001b[39m",
      "\u001b[31mNameError\u001b[39m                                 Traceback (most recent call last)",
      "\u001b[36mCell\u001b[39m\u001b[36m \u001b[39m\u001b[32mIn[105]\u001b[39m\u001b[32m, line 1\u001b[39m\n\u001b[32m----> \u001b[39m\u001b[32m1\u001b[39m \u001b[43manalysis\u001b[49m\n",
      "\u001b[31mNameError\u001b[39m: name 'analysis' is not defined"
     ]
    }
   ],
   "source": [
    "analysis"
   ]
  },
  {
   "cell_type": "code",
   "execution_count": null,
   "id": "bad7ca9f-3e4d-4b4f-b6c6-57b8e8432f2c",
   "metadata": {},
   "outputs": [],
   "source": []
  }
 ],
 "metadata": {
  "kernelspec": {
   "display_name": "Python 3 (ipykernel)",
   "language": "python",
   "name": "python3"
  },
  "language_info": {
   "codemirror_mode": {
    "name": "ipython",
    "version": 3
   },
   "file_extension": ".py",
   "mimetype": "text/x-python",
   "name": "python",
   "nbconvert_exporter": "python",
   "pygments_lexer": "ipython3",
   "version": "3.11.11"
  }
 },
 "nbformat": 4,
 "nbformat_minor": 5
}
