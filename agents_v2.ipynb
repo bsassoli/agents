{
 "cells": [
  {
   "cell_type": "markdown",
   "id": "8fab69ce-98b2-4a93-8af2-3a60436ddf18",
   "metadata": {},
   "source": [
    "# Coding agents from scratch"
   ]
  },
  {
   "cell_type": "code",
   "execution_count": 44,
   "id": "c6783163-6d55-49a0-aa9b-7b073039bf2f",
   "metadata": {},
   "outputs": [],
   "source": [
    "import os\n",
    "from concurrent.futures import ThreadPoolExecutor\n",
    "from openai import OpenAI\n",
    "from dotenv import load_dotenv\n",
    "from typing import List, Dict, Callable"
   ]
  },
  {
   "cell_type": "code",
   "execution_count": 45,
   "id": "b8267467-be8d-4ed2-8915-e0d1f7c51895",
   "metadata": {},
   "outputs": [],
   "source": [
    "env = load_dotenv()\n",
    "api_key: str = os.environ.get(\"OPENAI_API_KEY\")"
   ]
  },
  {
   "cell_type": "code",
   "execution_count": 46,
   "id": "daba0dca-3b38-4204-a127-d5f2d195521e",
   "metadata": {},
   "outputs": [],
   "source": [
    "class LLMPrompt:\n",
    "    def __init__(self, role, prompt_type, prompt_message):\n",
    "        self.message = {\n",
    "            \"role\": role,\n",
    "            \"content\": [{\n",
    "                \"type\": prompt_type,\n",
    "                prompt_type: prompt_message\n",
    "            }]\n",
    "        }\n",
    "            \n",
    "class LLMAgentSystemPrompt(LLMPrompt):\n",
    "    def __init__(self, system_prompt):\n",
    "        super().__init__(role=\"developer\", prompt_type=\"text\", prompt_message=system_prompt)"
   ]
  },
  {
   "cell_type": "code",
   "execution_count": 55,
   "id": "6ec4bdaa-5cac-4b4a-be53-8d8420c11ed4",
   "metadata": {},
   "outputs": [],
   "source": [
    "class LLMClient:\n",
    "    def __init__(self, api_key):\n",
    "        self.client = OpenAI(api_key=api_key)\n",
    "\n",
    "    def call(self, model, messages, max_completion_tokens=1000):\n",
    "        response = self.client.chat.completions.create(\n",
    "            model=model,\n",
    "            messages=messages,\n",
    "            max_completion_tokens=max_completion_tokens\n",
    "        )\n",
    "        return response.choices[0].message.content\n",
    "\n",
    "class LLMAgent:\n",
    "    def __init__(self, system_prompt, model, api_key):\n",
    "        self.client = LLMClient(api_key=api_key)\n",
    "        self.model = model\n",
    "        self.system_prompt = LLMAgentSystemPrompt(system_prompt).message\n"
   ]
  },
  {
   "cell_type": "code",
   "execution_count": 56,
   "id": "c31faf00-fd94-410f-9e29-7e3d8fcf746b",
   "metadata": {},
   "outputs": [],
   "source": [
    "class ChainerAgent(LLMAgent):\n",
    "    def __init__(self, system_prompt, steps, inp, model, api_key):\n",
    "        super().__init__(system_prompt, model, api_key)        \n",
    "        self.steps = steps\n",
    "        self.inp = inp\n",
    "        self.model = model\n",
    "\n",
    "    def chain(self, verbose=False):\n",
    "        chain = [self.system_prompt]\n",
    "        current_input = self.inp\n",
    "        for ix, step in enumerate(self.steps):            \n",
    "            new_step = LLMPrompt(\"user\", \"text\", f\"{step}\\nInput: {current_input}\").message\n",
    "            chain.append(new_step)\n",
    "            response_content = self.client.call(\n",
    "                model=self.model,\n",
    "                messages=chain,\n",
    "                max_completion_tokens=1000)\n",
    "\n",
    "            # Add the assistant's response to the chain\n",
    "            assistant_response = LLMPrompt(\"assistant\", \"text\", response_content).message\n",
    "            chain.append(assistant_response)\n",
    "            if verbose:\n",
    "                print(f\"STEP: {ix}\")\n",
    "                print(response_content)\n",
    "                print(\"=\"*36)\n",
    "            current_input = response_content\n",
    "        return response_content\n"
   ]
  },
  {
   "cell_type": "code",
   "execution_count": 57,
   "id": "a1246970-fc12-4283-8983-f0ccc14ae31f",
   "metadata": {},
   "outputs": [],
   "source": [
    "class BloggerAgent(ChainerAgent):\n",
    "    def __init__(self, topic, target_audience, word_count, model=\"gpt-4o-mini\", api_key=None):\n",
    "        # Define the system prompt for blog post generation\n",
    "        system_prompt = \"\"\"You are a professional blog content creator who specializes in creating\n",
    "        high-quality, engaging blog posts on various topics. You follow SEO best practices\n",
    "        and create content that is both informative and engaging.\"\"\"\n",
    "        \n",
    "        # Define the steps for the blog post creation pipeline\n",
    "        steps = [\n",
    "            # Step 1: Generate an outline\n",
    "            \"\"\"Create a detailed outline for a blog post on the given topic.\n",
    "            Include a title, introduction, 4-6 main sections with subpoints, and conclusion.\n",
    "            Format the outline with clear headings and bullet points.\"\"\",\n",
    "            \n",
    "            # Step 2: Validate and refine the outline\n",
    "            \"\"\"Review the outline and ensure it meets these criteria:\n",
    "            - Covers the topic comprehensively\n",
    "            - Flows logically from point to point\n",
    "            - Addresses the needs of the target audience\n",
    "            - Includes specific, actionable information\n",
    "            If any criteria are not met, refine the outline accordingly.\"\"\",\n",
    "            \n",
    "            # Step 3: Expand the outline into a complete post\n",
    "            \"\"\"Based on the validated outline, write the complete blog post.\n",
    "            Include all of the following:\n",
    "            1. An engaging title\n",
    "            2. A hook-filled introduction\n",
    "            3. Well-developed main sections with subheadings\n",
    "            4. A strong conclusion with a call-to-action\n",
    "            5. Write in a conversational but professional tone    \n",
    "            The complete post should be approximately {word_count} words.\"\"\"\n",
    "        ]\n",
    "        \n",
    "        \n",
    "        # Prepare input for the chaining process\n",
    "        input_data = f\"\"\"\n",
    "        Topic: {topic}\n",
    "        Target Audience: {target_audience}\n",
    "        Approximate Word Count: {word_count}\n",
    "        \"\"\"\n",
    "        # Initialize the parent class\n",
    "        super().__init__(system_prompt, steps, input_data, model, api_key)\n",
    "    \n",
    "    def generate_blog_post(self, verbose=True):\n",
    "        \"\"\"Generate a complete blog post using the chaining process\"\"\"\n",
    "        print(f\"🚀 Starting blog post generation process...\")\n",
    "        result = self.chain(verbose=verbose)\n",
    "        print(f\"✅ Blog post generation complete!\")\n",
    "        return result\n",
    "    \n",
    "    def save_to_file(self, filename):\n",
    "        \"\"\"Save the generated blog post to a markdown file\"\"\"\n",
    "        blog_post = self.generate_blog_post(verbose=False)\n",
    "        with open(filename, 'w') as f:\n",
    "            f.write(blog_post)\n",
    "        print(f\"📝 Blog post saved to {filename}\")\n",
    "        "
   ]
  },
  {
   "cell_type": "code",
   "execution_count": 58,
   "id": "b9c676fa-9cf2-4209-a5ae-11903bc034c6",
   "metadata": {},
   "outputs": [],
   "source": [
    "class RouterAgent(LLMAgent):\n",
    "    def __init__(self, system_prompt, choices, model, api_key, input_data):\n",
    "        super().__init__(system_prompt, model, api_key)\n",
    "        self.input_data = input_data\n",
    "        self.choices = choices\n",
    "    \n",
    "    def route(self):\n",
    "        routing_prompt_text=f\"Analyze the following data {self.input_data.strip()} and based on the data select the most appropriate of the following options: {self.choices}\"\n",
    "        self.routing_prompt = LLMPrompt(\"user\", \"text\", routing_prompt_text)\n",
    "        chain = [self.system_prompt, self.routing_prompt.message]\n",
    "        response = self.client.call(\n",
    "            model=self.model,\n",
    "            messages=chain,)\n",
    "        return response"
   ]
  },
  {
   "cell_type": "code",
   "execution_count": 79,
   "id": "367963be-171d-4145-a31b-cb10baa5bcc0",
   "metadata": {},
   "outputs": [],
   "source": [
    "class ParallelAgent(LLMAgent):\n",
    "    def __init__(self, system_prompt, tasks, instruction, model, api_key):\n",
    "        self.tasks = tasks\n",
    "        self.instruction = instruction\n",
    "        super().__init__(system_prompt, model, api_key)\n",
    "\n",
    "    def run_parallel(self, n_workers=3):    \n",
    "        with ThreadPoolExecutor(max_workers=n_workers) as executor:\n",
    "            f = lambda task : self.client.call(\n",
    "                model=self.model,\n",
    "                max_completion_tokens=1000,\n",
    "                messages = [self.system_prompt, LLMPrompt(\"user\", \"text\", f\"{self.instruction}\\nInput: {task}\").message])\n",
    "            futures = [executor.submit(f, f\"{self.instruction}\\nInput: {x}\") for x in self.tasks]\n",
    "        return [f.result() for f in futures]"
   ]
  },
  {
   "cell_type": "markdown",
   "id": "2fe5df5d-de54-4a35-9c6a-0f2423c561d4",
   "metadata": {},
   "source": [
    "## Agentic workflows"
   ]
  },
  {
   "cell_type": "markdown",
   "id": "824af71e-de4c-4e62-a804-446825325ae2",
   "metadata": {},
   "source": [
    "### Prompt-Chaining: Decompose a task into sequential subtasks, where each step builds on previous results"
   ]
  },
  {
   "cell_type": "markdown",
   "id": "bb436403-d6c4-4a4c-aa8d-6c02047397e9",
   "metadata": {},
   "source": [
    "#### Example 1: Chain workflow for structured data extraction and formatting\n",
    "Each step progressively transforms raw text into a formatted table"
   ]
  },
  {
   "cell_type": "code",
   "execution_count": 60,
   "id": "7cc80523-e421-4b31-aa8d-e1e2348e95c5",
   "metadata": {},
   "outputs": [],
   "source": [
    "data_processing_steps = [\n",
    "    \"\"\"Extract only the numerical values and their associated metrics from the text.\n",
    "    Format each as 'value: metric' on a new line.\n",
    "    Example format:\n",
    "    92: customer satisfaction\n",
    "    45%: revenue growth\n",
    "    23.00: customer acquisition cost\n",
    "    \"\"\",\n",
    "    \n",
    "    \"\"\"Convert all numerical values to percentages where possible.\n",
    "    If not a percentage or points, convert to decimal (e.g., 92 points -> 92%).\n",
    "    Keep one number per line.\n",
    "    Example format:\n",
    "    92%: customer satisfaction\n",
    "    45%: revenue growth\n",
    "    23.00: customer acquisition cost\"\"\",\n",
    "    \n",
    "    \"\"\"Sort all lines in descending order by numerical value.\n",
    "    Keep the format 'value: metric' on each line.\n",
    "    Example:\n",
    "    92%: customer satisfaction\n",
    "    87%: employee satisfaction\n",
    "    43.00: customer acquisition cost\n",
    "    34%: operating margin\n",
    "    \"\"\",\n",
    "    \n",
    "    \"\"\"Format the sorted data as a markdown table with columns, without tags or enclosing quotes:\n",
    "    | Metric | Value |\n",
    "    |:--|--:|\n",
    "    | Customer Satisfaction | 92% |\n",
    "    | Customer Acquisition Cost 23.00 |\"\"\"\n",
    "]"
   ]
  },
  {
   "cell_type": "code",
   "execution_count": 61,
   "id": "e54d1d17-f96f-4465-b33d-57f716e92d02",
   "metadata": {},
   "outputs": [],
   "source": [
    "system_prompt = \"You are a helpful assistant specializing in marketing analysis.\"\n",
    "\n",
    "report = \"\"\"\n",
    "Q3 Performance Summary:\n",
    "Our customer satisfaction score rose to 92 points this quarter.\n",
    "Revenue grew by 45% compared to last year.\n",
    "Market share is now at 23% in our primary market.\n",
    "Customer churn decreased to 5% from 8%.\n",
    "New user acquisition cost is $43 per user.\n",
    "Product adoption rate increased to 78%.\n",
    "Employee satisfaction is at 87 points.\n",
    "Operating margin improved to 34%.\n",
    "\"\"\""
   ]
  },
  {
   "cell_type": "code",
   "execution_count": 64,
   "id": "720ae53f-ebc8-487b-acd5-c3a9f7aee913",
   "metadata": {},
   "outputs": [],
   "source": [
    "chainerAgent = ChainerAgent(system_prompt, data_processing_steps, report, \"gpt-4o\", api_key)\n",
    "output = chainerAgent.chain()"
   ]
  },
  {
   "cell_type": "code",
   "execution_count": 65,
   "id": "11ae3e92-38f3-497d-9d94-d859bc8e793b",
   "metadata": {},
   "outputs": [
    {
     "data": {
      "text/markdown": [
       "| Metric | Value |\n",
       "|:--|--:|\n",
       "| Customer Satisfaction | 92% |\n",
       "| Employee Satisfaction | 87% |\n",
       "| Product Adoption Rate | 78% |\n",
       "| Revenue Growth | 45% |\n",
       "| New User Acquisition Cost | 43.00 |\n",
       "| Operating Margin | 34% |\n",
       "| Market Share | 23% |\n",
       "| Customer Churn | 5% |"
      ],
      "text/plain": [
       "<IPython.core.display.Markdown object>"
      ]
     },
     "metadata": {},
     "output_type": "display_data"
    }
   ],
   "source": [
    "from IPython.display import display, Markdown\n",
    "display(Markdown(output))"
   ]
  },
  {
   "cell_type": "markdown",
   "id": "e88bec81-f1fd-4788-8ef7-2b4b99f31185",
   "metadata": {},
   "source": [
    "**Expected output**\n",
    "\n",
    "| Metric | Value |\n",
    "|:--|--:|\n",
    "| Customer Satisfaction | 92% |\n",
    "| Employee Satisfaction | 87% |\n",
    "| Product Adoption Rate | 78% |\n",
    "| Revenue Growth | 45% |\n",
    "| User Acquisition Cost | 43.00 |\n",
    "| Operating Margin | 34% |\n",
    "| Market Share | 23% |\n",
    "| Previous Customer Churn | 8% |\n",
    "| Customer Churn | 5% |\n"
   ]
  },
  {
   "cell_type": "markdown",
   "id": "e0ff299e-6688-4f5d-82aa-06bbc3f9bc04",
   "metadata": {},
   "source": [
    "#### Example 2: Chain workflow to anonymise, translate and restyle text"
   ]
  },
  {
   "cell_type": "code",
   "execution_count": 66,
   "id": "d6d822b0-b2f0-481c-b525-f9d9adabb488",
   "metadata": {},
   "outputs": [],
   "source": [
    "anonymize_and_translate_steps = [\n",
    "    \"\"\"\"Perform named entity recognition NER on the text, enclosing each entity in the appropriate tag.\n",
    "    <example>\n",
    "    Before: 'Mr. Smith went to London, where he met his wife Jane Smith and his partner Leonard Farley'\n",
    "    After: 'Mr. <LASTNAME>Smith</LASTNAME> went to <CITY>London</CITY>, where he met his wife, <FIRSTNAME>Jane</FIRSTNAME><LASTNAME>Smith</LASTNAME>and his partner<FIRSTNAME>Leonard</FIRSTNAME><LASTNAME>Farley</LASTNAME>\n",
    "    </example>\n",
    "    \"\"\",\n",
    "    \n",
    "    \"\"\"Anonymize the text, replacing each entity marked with a tag with a pseudonym.\n",
    "    Make sure to preserve the meaning and content of sentence by replacing each entity with the same pseudonym.\n",
    "    <example>\n",
    "    Before: 'Mr. <LASTNAME>Smith</LASTNAME> went to <CITY>London</CITY>, where he met his wife, <FIRSTNAME>Jane</FIRSTNAME><LASTNAME>Smith</LASTNAME>and his partner<FIRSTNAME>Leonard</FIRSTNAME><LASTNAME>Farley</LASTNAME>,\n",
    "    After: 'Mr. Frum went to Balberry,where he met with his wife, Ellen Frum, and his partner, Algernon Leiter.\n",
    "    </example>\n",
    "    \"\"\",\n",
    "    \"\"\"Translate the anonymized text in Italian.\"\"\",\n",
    "    \"\"\"Turn the Italian into verses\"\"\",\n",
    "    \"\"\"Turn the verse into romanesco, in the style of Belli\"\"\",\n",
    "]"
   ]
  },
  {
   "cell_type": "code",
   "execution_count": 67,
   "id": "a3b1eab1-f293-4258-a007-686dc619e3a0",
   "metadata": {},
   "outputs": [],
   "source": [
    "secretary_prompt = \"You are a helpful secretary who values confidentiality and is adept at translations\"\n",
    "text = \"It was a rainy day in Glasgow, when brothers Chad and John Smith embarked on their journey to Rome, where they hoped they would meet General Tso and his chicken\"\n",
    "chainer2 = ChainerAgent(system_prompt=secretary_prompt, steps=anonymize_and_translate_steps, inp=text, model=\"gpt-4o-mini\", api_key=api_key)\n",
    "tradit = chainer2.chain()"
   ]
  },
  {
   "cell_type": "code",
   "execution_count": 68,
   "id": "cdf75771-c8a4-4937-adc4-9505724b38b3",
   "metadata": {},
   "outputs": [
    {
     "data": {
      "text/plain": [
       "\"Era ’na giornata bagnata a Balberry,  \\nquanno i frate' Alex e Ben,  \\nJohnson de cognome, senza pensiero,  \\npartìrono in viaggio, col core sincero.\\n\\nVerso La Valletta, ‘na meta da sogno,  \\ndove speravano, co’ tanto impegno,  \\nde incontrà er Comandante Chow,  \\ne er suo pollo, ‘na festa d’amore, oh, wow!\""
      ]
     },
     "execution_count": 68,
     "metadata": {},
     "output_type": "execute_result"
    }
   ],
   "source": [
    "tradit"
   ]
  },
  {
   "cell_type": "markdown",
   "id": "1dd469d8-56fb-4ed5-9bb3-874090c8d1f5",
   "metadata": {},
   "source": [
    "#### Example 3: Chain workflow to create and perfect blog posts"
   ]
  },
  {
   "cell_type": "code",
   "execution_count": 69,
   "id": "873059bf-befd-43fc-9942-bd6fb4c157e3",
   "metadata": {},
   "outputs": [],
   "source": [
    "class Blogger(ChainerAgent):\n",
    "    def __init__(self, topic, target_audience, word_count, model=\"gpt-4\", api_key=None):\n",
    "        # Define the system prompt for blog post generation\n",
    "        system_prompt = \"\"\"You are a professional blog content creator who specializes in creating\n",
    "        high-quality, engaging blog posts on various topics. You follow SEO best practices\n",
    "        and create content that is both informative and engaging.\"\"\"\n",
    "        \n",
    "        # Define the steps for the blog post creation pipeline\n",
    "        steps = [\n",
    "            # Step 1: Generate an outline\n",
    "            \"\"\"Create a detailed outline for a blog post on the given topic.\n",
    "            Include a title, introduction, 4-6 main sections with subpoints, and conclusion.\n",
    "            Format the outline with clear headings and bullet points.\"\"\",\n",
    "            \n",
    "            # Step 2: Validate and refine the outline\n",
    "            \"\"\"Review the outline and ensure it meets these criteria:\n",
    "            - Covers the topic comprehensively\n",
    "            - Flows logically from point to point\n",
    "            - Addresses the needs of the target audience\n",
    "            - Includes specific, actionable information\n",
    "            If any criteria are not met, refine the outline accordingly.\"\"\",\n",
    "            \n",
    "            # Step 3: Expand the outline into a complete post\n",
    "            \"\"\"Based on the validated outline, write the complete blog post.\n",
    "            Include all of the following:\n",
    "            1. An engaging title\n",
    "            2. A hook-filled introduction\n",
    "            3. Well-developed main sections with subheadings\n",
    "            4. A strong conclusion with a call-to-action\n",
    "            5. Write in a conversational but professional tone    \n",
    "            The complete post should be approximately {word_count} words.\"\"\"\n",
    "        ]\n",
    "        \n",
    "        \n",
    "        # Prepare input for the chaining process\n",
    "        input_data = f\"\"\"\n",
    "        Topic: {topic}\n",
    "        Target Audience: {target_audience}\n",
    "        Approximate Word Count: {word_count}\n",
    "        \"\"\"\n",
    "        \n",
    "        # Initialize the parent class\n",
    "        super().__init__(system_prompt, steps, input_data, model, api_key)\n",
    "    \n",
    "    def generate_blog_post(self, verbose=True):\n",
    "        \"\"\"Generate a complete blog post using the chaining process\"\"\"\n",
    "        print(f\"🚀 Starting blog post generation process...\")\n",
    "        result = self.chain(verbose=verbose)\n",
    "        print(f\"✅ Blog post generation complete!\")\n",
    "        return result\n",
    "    \n",
    "    def save_to_file(self, filename):\n",
    "        \"\"\"Save the generated blog post to a markdown file\"\"\"\n",
    "        blog_post = self.generate_blog_post(verbose=False)\n",
    "        with open(filename, 'w') as f:\n",
    "            f.write(blog_post)\n",
    "        print(f\"📝 Blog post saved to {filename}\")"
   ]
  },
  {
   "cell_type": "code",
   "execution_count": 71,
   "id": "e32a1c13-e4b6-4146-a54a-88b46e82cfda",
   "metadata": {},
   "outputs": [
    {
     "name": "stdout",
     "output_type": "stream",
     "text": [
      "🚀 Starting blog post generation process...\n",
      "STEP: 0\n",
      "# Outline for Blog Post: \"Unraveling the Philosophy of Logic: Foundations and Implications\"\n",
      "\n",
      "## Introduction\n",
      "- Brief introduction to the concept of logic and its significance in various fields.\n",
      "- Importance of understanding the philosophy behind logic for advanced students in Philosophy, Computer Science, and Mathematics.\n",
      "- Statement of purpose for the blog post: to explore foundational concepts, key areas of research, and the implications of the philosophy of logic.\n",
      "\n",
      "## I. Defining Logic\n",
      "- **A. Historical Perspective**  \n",
      "  - Overview of the origins of logic in ancient philosophy (e.g., Aristotle's syllogisms).\n",
      "  - Development through the Middle Ages to modern logic.\n",
      "  \n",
      "- **B. Branches of Logic**  \n",
      "  - Propositional Logic vs. Predicate Logic.\n",
      "  - Modal Logic and its extensions.\n",
      "\n",
      "## II. Key Philosophical Questions in Logic\n",
      "- **A. Nature of Logical Truth**  \n",
      "  - What constitutes a valid argument?\n",
      "  - Distinction between subjective vs. objective truth in logical statements.\n",
      "  \n",
      "- **B. The Role of Language**  \n",
      "  - How language shapes logical reasoning.\n",
      "  - The impact of semantics and syntax on logical constructs.\n",
      "\n",
      "## III. Notable Philosophers and Theories\n",
      "- **A. Frege and Analytic Philosophy**  \n",
      "  - Contributions of Gottlob Frege to the philosophy of logic.\n",
      "  - The idea of sense and reference and their implications for logic.\n",
      "  \n",
      "- **B. Wittgenstein's Language Games**  \n",
      "  - Overview of Wittgenstein's views on the limitations of language and its relationship to logic.\n",
      "  \n",
      "- **C. Tarski's Definitions of Truth**  \n",
      "  - Explanation of Alfred Tarski's work on truth and its relevance to formal logic.\n",
      "\n",
      "## IV. Logic in Computer Science and Mathematics\n",
      "- **A. Computational Logic**  \n",
      "  - Relation between logic and algorithms in computer science.\n",
      "  - Use of formal logic in programming and systems design.\n",
      "  \n",
      "- **B. Mathematical Logic**  \n",
      "  - The significance of logic in proving theorems and formulating mathematical foundations.\n",
      "  - Gödel's Incompleteness Theorems and their philosophical implications.\n",
      "\n",
      "## V. Contemporary Issues in the Philosophy of Logic\n",
      "- **A. Non-Classical Logics**  \n",
      "  - Introduction to non-standard logics (e.g., fuzzy logic, paraconsistent logic).\n",
      "  - Philosophical implications of adopting non-classical systems.\n",
      "  \n",
      "- **B. Logic and Artificial Intelligence**  \n",
      "  - How philosophical questions in logic inform AI development and ethics.\n",
      "  - The potential risks and benefits of implementing logical frameworks in AI systems.\n",
      "\n",
      "## Conclusion\n",
      "- Recap of the significance of discussing the philosophy of logic.\n",
      "- Encouragement for students to explore the intricate relationships between logic, philosophy, and their respective disciplines.\n",
      "- Call to action: engage with further readings and discussions to deepen understanding and foster interdisciplinary insights.\n",
      "====================================\n",
      "STEP: 1\n",
      "The outline for the blog post on \"Unraveling the Philosophy of Logic: Foundations and Implications\" meets most criteria, but a few adjustments can enhance the flow, specificity, and actionability. Below is a refined version that addresses these considerations:\n",
      "\n",
      "# Refined Outline for Blog Post: \"Unraveling the Philosophy of Logic: Foundations and Implications\"\n",
      "\n",
      "## Introduction\n",
      "- Introduce the concept of logic and its pivotal role across disciplines like Philosophy, Computer Science, and Mathematics.\n",
      "- Explain why advanced students in these fields should grasp the underlying philosophical questions about logic.\n",
      "- Clearly state the blog's purpose: to explore foundational concepts, key philosophical debates, and practical implications of the philosophy of logic.\n",
      "\n",
      "## I. Defining Logic\n",
      "- **A. Historical Perspective**  \n",
      "  - Discuss the evolution of logic from Aristotle's syllogisms to modern developments.\n",
      "  - Highlight key philosophical movements and figures (e.g., Stoicism, medieval scholasticism).\n",
      "  \n",
      "- **B. Main Branches of Logic**  \n",
      "  - Differentiate between Propositional Logic and Predicate Logic with relevant examples.\n",
      "  - Explore Modal Logic: concepts of necessity and possibility, and their applications in different contexts.\n",
      "\n",
      "## II. Key Philosophical Questions in Logic\n",
      "- **A. Nature of Logical Truth**  \n",
      "  - Define valid arguments and explore the processes of deduction and induction.\n",
      "  - Examine the subjective vs. objective views on logical truth, encouraging readers to consider implications for philosophical inquiry.\n",
      "  \n",
      "- **B. The Role of Language**  \n",
      "  - Analyze how language influences logical reasoning.\n",
      "  - Discuss semantics and syntax: Provide examples to illustrate how language shapes logical constructs (e.g., ambiguous terms).\n",
      "\n",
      "## III. Notable Philosophers and Their Contributions\n",
      "- **A. Gottlob Frege**  \n",
      "  - Elaborate on Frege's impact on logical philosophy and the significance of sense and reference.\n",
      "  - Discuss modern relevance, including applications in computer science (e.g., functional programming).\n",
      "  \n",
      "- **B. Ludwig Wittgenstein**  \n",
      "  - Highlight major points from Wittgenstein's critiques of traditional logic and his idea of language games.\n",
      "  - Discuss implications for understanding human reasoning and communication.\n",
      "\n",
      "- **C. Alfred Tarski**  \n",
      "  - Detail Tarski's definitions of truth, including the concept of the \"Convention T.\"\n",
      "  - Suggest ways Tarski's work can influence contemporary logical thought.\n",
      "\n",
      "## IV. Logic in Computer Science and Mathematics\n",
      "- **A. Computational Logic**  \n",
      "  - Explore the assurance of correctness in algorithms through formal logic.\n",
      "  - Provide examples of applications in programming languages and software development methodologies (e.g., verification techniques).\n",
      "  \n",
      "- **B. Mathematical Logic**  \n",
      "  - Discuss the foundational role of logic in mathematics and the significance of formal proofs.\n",
      "  - Explain Gödel's Incompleteness Theorems and their philosophical implications, inviting readers to reflect on these ideas.\n",
      "\n",
      "## V. Contemporary Issues and Applications in the Philosophy of Logic\n",
      "- **A. Non-Classical Logics**  \n",
      "  - Introduce non-standard logics (e.g., fuzzy logic, paraconsistent logic) and their philosophical implications.\n",
      "  - Discuss scenarios where these logics may be more applicable than classical logic, such as in dealing with uncertainty and paradoxes.\n",
      "  \n",
      "- **B. Logic and Artificial Intelligence**  \n",
      "  - Explore the philosophical implications of logical frameworks in AI ethics and decision-making.\n",
      "  - Discuss real-world applications and potential risks of logical reasoning in AI algorithms.\n",
      "\n",
      "## Conclusion\n",
      "- Summarize the significance of the philosophy of logic and its relevance in modern academic and practical settings.\n",
      "- Encourage students to delve deeper—suggest specific resources or readings based on the sections covered.\n",
      "- Call to action: Invite readers to engage in discussions, join study groups, or attend workshops that explore logic and its philosophical underpinnings to cultivate a more nuanced understanding.\n",
      "\n",
      "With these refinements, the outline maintains a logical flow and comprehensively covers the topic while being actionable and relevant for the target audience. Specific examples and contexts enhance engagement and applicability, making the outline more effective.\n",
      "====================================\n",
      "STEP: 2\n",
      "# Unraveling the Philosophy of Logic: Foundations and Implications\n",
      "\n",
      "## Introduction\n",
      "\n",
      "Logic is often seen as the backbone of rational thought, a tool that guides us through intricate arguments and complex decisions. From its ancient roots to its modern applications in fields like Philosophy, Computer Science, and Mathematics, the study of logic plays an essential role in intellectual inquiry. But have you ever paused to consider the philosophical questions that underlie this fascinating subject? As advanced students navigating these disciplines, understanding the philosophy of logic can deepen your insights and sharpen your critical thinking skills.\n",
      "\n",
      "In this post, we'll embark on a journey to explore the foundational concepts behind logic, delve into key philosophical debates, and discuss their practical implications across various fields. Whether you're looking to refine your arguments or understand how logic impacts technological advancements, this exploration is bound to spark your curiosity about the intricate relationship between logic and philosophy.\n",
      "\n",
      "## I. Defining Logic\n",
      "\n",
      "### A. Historical Perspective \n",
      "\n",
      "The roots of logic trace back to ancient philosophers like Aristotle, who laid the groundwork with his pioneering syllogistic methods. Over centuries, logic has evolved through various philosophical movements—from Stoicism, which emphasized rational reflection, to medieval scholasticism that integrated theological considerations. Today, we stand on the shoulders of these giants, witnessing ongoing developments in both theoretical and applied logic.\n",
      "\n",
      "### B. Main Branches of Logic \n",
      "\n",
      "Logic can be divided into several branches, each with distinct focuses. **Propositional Logic** deals with propositions and their truth values, while **Predicate Logic** emphasizes the relationships between objects and their properties. Another critical area is **Modal Logic**, which introduces discussions of necessity and possibility—concepts that are increasingly relevant in contemporary debates about decision-making and uncertainty.\n",
      "\n",
      "## II. Key Philosophical Questions in Logic\n",
      "\n",
      "### A. Nature of Logical Truth\n",
      "\n",
      "What does it mean for an argument to be valid? Understanding how we determine validity involves the processes of deduction (drawing specific conclusions from general principles) and induction (inferring generalizations from specific observations). A deeper dive into these methods reveals important questions about the nature of logical truth: is it inherently objective, or is it shaped by subjective interpretations? These inquiries can have profound implications for philosophical exploration.\n",
      "\n",
      "### B. The Role of Language\n",
      "\n",
      "Language is intrinsically linked to logical reasoning. The words we select can significantly influence the clarity and effectiveness of our arguments. Through analyzing aspects of **semantics** (the meaning of words) and **syntax** (the arrangement of words), we can uncover how language shapes logical constructs. For example, consider how an ambiguous term might lead to various interpretations, thereby complicating the argument's validity. \n",
      "\n",
      "## III. Notable Philosophers and Their Contributions\n",
      "\n",
      "### A. Gottlob Frege \n",
      "\n",
      "Gottlob Frege is often hailed as a pioneer in the philosophy of logic. His work established the importance of distinguishing between sense (the meaning of a term) and reference (the actual object represented by that term). Frege's insights have far-reaching implications, especially in modern applications like functional programming in computer science, where understanding these distinctions can lead to more efficient coding practices.\n",
      "\n",
      "### B. Ludwig Wittgenstein \n",
      "\n",
      "Ludwig Wittgenstein challenged traditional notions of logic, introducing the idea of **language games**, which posits that the function of language is context-dependent. This perspective encourages us to rethink how language and logic interact and informs our understanding of human reasoning and communication.\n",
      "\n",
      "### C. Alfred Tarski \n",
      "\n",
      "Alfred Tarski's work on truth, particularly his definition known as \"Convention T,\" has significantly influenced contemporary logical thought. Tarski demanded that any adequate definition of truth in a language must align with its semantic characterization, which is a cornerstone in both philosophy and mathematical logic.\n",
      "\n",
      "## IV. Logic in Computer Science and Mathematics\n",
      "\n",
      "### A. Computational Logic \n",
      "\n",
      "In computer science, logic is not just theoretical; it has practical applications, particularly in assuring the correctness of algorithms. Formal logic provides verification techniques that confirm whether code performs as intended. Familiarity with these logical underpinnings can bridge the gap between theory and practice in software development.\n",
      "\n",
      "### B. Mathematical Logic \n",
      "\n",
      "The foundations of mathematics rest heavily on logical principles. The significance of **formal proofs** cannot be overstated, as they validate mathematical theorems and maintain the integrity of the mathematical system. Gödel's Incompleteness Theorems, which show that no consistent system of arithmetic can prove all truths about the arithmetic values, vividly illustrate the limitations of logical reasoning. Reflecting on these ideas can inspire deeper philosophical inquiries into the nature of knowledge itself.\n",
      "\n",
      "## V. Contemporary Issues and Applications in the Philosophy of Logic\n",
      "\n",
      "### A. Non-Classical Logics \n",
      "\n",
      "In recent years, there has been a growing interest in **non-classical logics** such as fuzzy logic and paraconsistent logic. These frameworks address scenarios that classical logic struggles to accommodate, like uncertainty and inconsistencies. Their philosophical implications challenge our understanding of truth, inviting fresh perspectives on reasoning.\n",
      "\n",
      "### B\n",
      "====================================\n",
      "✅ Blog post generation complete!\n"
     ]
    }
   ],
   "source": [
    "blogger = Blogger(\n",
    "    topic=\"Philosophy of Logic\",\n",
    "    target_audience=\"advanced undergraduate and graduate students in Philosophy, Computer Science and Mathematics\",\n",
    "    word_count=500,\n",
    "    model=\"gpt-4o-mini\",\n",
    "    api_key=api_key\n",
    ")\n",
    "post = blogger.generate_blog_post()"
   ]
  },
  {
   "cell_type": "code",
   "execution_count": 72,
   "id": "54c0291f-c37c-4605-898c-a32f6ba3486d",
   "metadata": {},
   "outputs": [],
   "source": [
    "# display(Markdown(post))"
   ]
  },
  {
   "cell_type": "markdown",
   "id": "3deb19c4-273b-4c73-95da-a5e8117afde1",
   "metadata": {},
   "source": [
    "### Routing: Dynamically selects specialized LLM paths based on input characteristics"
   ]
  },
  {
   "cell_type": "code",
   "execution_count": 73,
   "id": "3a5e2bb7-09b8-4a85-b400-c54fca987cb4",
   "metadata": {},
   "outputs": [],
   "source": [
    "router = RouterAgent(\n",
    "    \"you are a helpful assistant specializing in routing support tickets to the appropriate department\",\n",
    "    model=\"gpt-4o-mini\",\n",
    "    choices=[\"billing\", \"technical\", \"account\", \"product\"],\n",
    "    api_key=api_key,\n",
    "    input_data=\"\"\"Ticket 2:\n",
    "    Subject: Unexpected charge on my card\n",
    "    Message: Hello, I just noticed a charge of $49.99 on my credit card from your company, but I thought\n",
    "    I was on the $29.99 plan. Can you explain this charge and adjust it if it's a mistake?\n",
    "    Thanks,\n",
    "    Sarah\"\"\"\n",
    ")"
   ]
  },
  {
   "cell_type": "code",
   "execution_count": 74,
   "id": "a2d953fc-c85f-45c1-b9de-5f390506b101",
   "metadata": {},
   "outputs": [],
   "source": [
    "route = router.route()"
   ]
  },
  {
   "cell_type": "code",
   "execution_count": 75,
   "id": "b4e84528-299a-4202-be98-7d7f0dc4172c",
   "metadata": {},
   "outputs": [
    {
     "data": {
      "text/plain": [
       "\"Based on the content of Ticket 2, the most appropriate department to route the ticket to is **billing**. This is because the issue involves an unexpected charge on the customer's credit card and a discrepancy between the plan they thought they were on and what they were charged.\""
      ]
     },
     "execution_count": 75,
     "metadata": {},
     "output_type": "execute_result"
    }
   ],
   "source": [
    "route"
   ]
  },
  {
   "cell_type": "code",
   "execution_count": 76,
   "id": "57d02e97-9780-42d8-9809-2d0dd18e7b76",
   "metadata": {},
   "outputs": [
    {
     "name": "stdout",
     "output_type": "stream",
     "text": [
      "Based on the content of Ticket 3, the request is related to exporting project data, which falls under the technical aspects of using the system. Therefore, the most appropriate option for routing this ticket is:\n",
      "\n",
      "**technical**\n"
     ]
    }
   ],
   "source": [
    "ticket=\"\"\"Ticket 3:\n",
    "----------------------------------------\n",
    "Subject: How to export data?\n",
    "    Message: I need to export all my project data to Excel. I've looked through the docs but can't\n",
    "    figure out how to do a bulk export. Is this possible? If so, could you walk me through the steps?\n",
    "    Best regards,\n",
    "    Mike\"\"\"\n",
    "router = RouterAgent(\n",
    "    \"you are a helpful assistant specializing in routing support tickets to the appropriate department\",\n",
    "    model=\"gpt-4o-mini\",\n",
    "    choices=[\"billing\", \"technical\", \"account\", \"product\"],\n",
    "    api_key=api_key,\n",
    "    input_data=ticket\n",
    ")\n",
    "route = router.route()\n",
    "print(route)"
   ]
  },
  {
   "cell_type": "markdown",
   "id": "24273b4f-d6b6-4b67-8392-8c4d2d671e41",
   "metadata": {},
   "source": [
    "### Parallelization: Distributes independent subtasks across multiple LLMs for concurrent processing"
   ]
  },
  {
   "cell_type": "markdown",
   "id": "074a0380-241c-42c6-9e7a-f8af367be9d5",
   "metadata": {},
   "source": [
    "#### Example: Parallelization workflow for stakeholder impact analysis\n",
    "Process impact analysis for multiple stakeholder groups concurrently"
   ]
  },
  {
   "cell_type": "code",
   "execution_count": 77,
   "id": "00d3bc0f-71d9-42b6-b198-cd510afcc7ba",
   "metadata": {},
   "outputs": [],
   "source": [
    "stakeholders = [\n",
    "    \"\"\"Customers:\n",
    "    - Price sensitive\n",
    "    - Want better tech\n",
    "    - Environmental concerns\"\"\",\n",
    "    \n",
    "    \"\"\"Employees:\n",
    "    - Job security worries\n",
    "    - Need new skills\n",
    "    - Want clear direction\"\"\",\n",
    "    \n",
    "    \"\"\"Investors:\n",
    "    - Expect growth\n",
    "    - Want cost control\n",
    "    - Risk concerns\"\"\",\n",
    "    \n",
    "    \"\"\"Suppliers:\n",
    "    - Capacity constraints\n",
    "    - Price pressures\n",
    "    - Tech transitions\"\"\"\n",
    "]\n",
    "instruction =  \"\"\"Analyze how market changes will impact this stakeholder group.\n",
    "    Provide specific impacts and recommended actions.\n",
    "    Format with clear sections and priorities.\"\"\""
   ]
  },
  {
   "cell_type": "code",
   "execution_count": 80,
   "id": "ca8a2634-77a7-482f-917d-41159e372386",
   "metadata": {},
   "outputs": [],
   "source": [
    "parallel = ParallelAgent(\n",
    "    \"You are an expert analyst, assessing stakeholder involvement\",\n",
    "    stakeholders,\n",
    "    instruction,\n",
    "    \"gpt-4o-mini\",\n",
    "    api_key\n",
    ")\n",
    "\n",
    "analysis = parallel.run_parallel(3)"
   ]
  },
  {
   "cell_type": "code",
   "execution_count": 81,
   "id": "3af61537-a4e3-489a-aed1-c53c39abc551",
   "metadata": {},
   "outputs": [
    {
     "data": {
      "text/plain": [
       "['# Analysis of Market Changes Impact on Customers\\n\\n## Overview\\nCustomers are influenced by several key market changes, including pricing strategies, technological advancements, and increased awareness of environmental issues. This analysis addresses how these factors will affect customers and outlines recommended actions to mitigate potential negative impacts and enhance customer satisfaction.\\n\\n## Key Impacts\\n\\n### 1. Price Sensitivity\\n#### Potential Impact:\\n- **Reduced Purchasing Power:** As market prices fluctuate, price-sensitive customers may reduce spending on non-essential items or seek cheaper alternatives, leading to potential revenue declines for businesses that do not adjust their pricing strategies.\\n- **Increased Price Comparisons:** Customers may become more vigilant, comparing prices across different platforms which could increase competition among businesses.\\n\\n### 2. Demand for Better Technology\\n#### Potential Impact:\\n- **Higher Expectations:** Customers will expect more advanced features and better performance from products. If companies do not innovate, they risk losing customers to competitors that offer superior technology.\\n- **Value Perception:** Customers may view companies that fail to adopt new technologies as less reliable or outdated, affecting brand loyalty.\\n\\n### 3. Environmental Concerns\\n#### Potential Impact:\\n- **Shift Toward Sustainable Products:** Customers are increasingly favoring companies that demonstrate environmental responsibility. A failure to address these concerns can lead to a loss of market share.\\n- **Demand for Transparency:** Customers may demand more information regarding the sustainability of products, influencing their purchasing decisions significantly.\\n\\n## Recommended Actions\\n\\n### 1. Addressing Price Sensitivity\\n#### Priority Actions:\\n- **Implement Competitive Pricing Strategies:** Regularly evaluate pricing in relation to competitors to maintain market competitiveness.\\n- **Introduce Tiered Pricing Models:** Offer different product lines that cater to various price points to satisfy both budget-conscious and premium customers.\\n\\n### 2. Fostering Technological Advancements\\n#### Priority Actions:\\n- **Invest in R&D:** Allocate funds to research and development to ensure the product offerings remain innovative and aligned with customer expectations.\\n- **Customer Feedback Loop:** Create channels for obtaining customer feedback on technology preferences and experiences to drive product improvements.\\n\\n### 3. Emphasizing Environmental Responsibility\\n#### Priority Actions:\\n- **Adopt Sustainable Practices:** Incorporate environmentally friendly practices in sourcing, production, and distribution processes to enhance brand image and customer loyalty.\\n- **Transparency and Communication:** Develop clear communication strategies that outline the sustainability efforts and environmental commitments to customers.\\n\\n## Conclusion\\nAs market conditions evolve, the effects on price-sensitive customers necessitate strategic actions from businesses. By understanding these impacts and implementing recommended strategies in pricing, technology, and sustainability, companies can better meet customer needs, strengthen loyalty, and position themselves competitively in the market.',\n",
       " \"# Analysis of Market Changes Impacting Employees\\n\\n## Overview\\nThe market dynamics, influenced by technological advancements, global competition, and shifting consumer preferences, have significant implications for employees. Understanding these impacts and responding with appropriate actions is essential for maintaining a motivated and skilled workforce.\\n\\n### Key Impacts on Employees\\n\\n1. **Job Security Worries**\\n   - **Impact**: The constant evolution of market demands and automation technologies may lead to redundancies or shifting job roles, creating anxiety about job security among employees.\\n   - **Recommended Action**: \\n     - **Transparent Communication**: Regularly update employees about market changes and their implications for the organization. This includes potential downsizing or restructuring plans.\\n     - **Job Transition Programs**: Implement outplacement support and career counseling for employees potentially impacted by job changes.\\n\\n2. **Need for New Skills**\\n   - **Impact**: With rapid market changes, certain skills may become obsolete while others gain importance. Employees may feel the need to continually upskill to remain relevant.\\n   - **Recommended Action**: \\n     - **Training and Development Initiatives**: Offer comprehensive training programs aimed at enhancing current skills and acquiring new competencies. This should include both technical skills related to job functions and soft skills such as adaptability and critical thinking.\\n     - **Partner with Educational Institutions**: Collaborate with local colleges and online platforms to provide employees with access to educational resources and certifications.\\n\\n3. **Want for Clear Direction**\\n   - **Impact**: In times of uncertainty, employees crave clarity regarding the organization's direction and their roles within it. Lack of clear communication can lead to disengagement and low morale.\\n   - **Recommended Action**: \\n     - **Regular Strategic Meetings**: Conduct frequent meetings to outline company goals, market position, and the role of each employee in achieving these objectives. \\n     - **Employee Feedback Mechanism**: Establish channels for employees to voice concerns and provide feedback on their roles and the overall strategy. This can foster a greater sense of involvement and purpose.\\n\\n## Prioritized Actions\\n\\n1. **Immediate Action (1-3 months)**\\n   - **Transparent Communication**: Establish a framework for regular updates to all employees about market changes and their effects on the organization.\\n   - **Feedback Mechanism**: Set up platforms (surveys, suggestion boxes, town halls) for employees to express their views and seek clarity.\\n\\n2. **Short-Term Action (3-6 months)**\\n   - **Training and Development Initiatives**: Roll out training programs tailored to the emerging skills required by the organization due to market changes.\\n   - **Job Transition Programs**: Create support systems for employees who may be affected by job changes.\\n\\n3. **Long-Term Action (6 months and beyond)**\\n   - **Partnership Development**: Form strategic partnerships with educational institutions for continuous upskilling and certification programs.\\n   - **Regular Strategic Meetings**: Implement a routine of strategic alignment meetings to ensure all employees understand their contribution to the organization's future.\\n\\n## Conclusion\\nMarket changes present both challenges and opportunities for employees. By prioritizing transparent communication, skill development, and providing clear direction, organizations can alleviate employee concerns, foster a culture of growth, and enhance overall job satisfaction. Addressing these impacts proactively will help in building a resilient workforce ready to adapt to the evolving market landscape.\",\n",
       " \"### Stakeholder Group: Investors\\n\\n#### Overview\\nInvestors are a critical stakeholder group, primarily focused on the potential for financial returns on their investments. Their interests encompass growth, cost control, and risk management. Market changes can significantly impact these factors, influencing investor sentiment and investment strategies.\\n\\n### Impact of Market Changes on Investors\\n\\n#### 1. Growth Expectations\\n   - **Impact**: Fluctuations in market conditions (economic downturns, market saturation, etc.) can stunt growth opportunities. Investors may become wary of companies unable to deliver on growth promises.\\n   - **Specifics**: Sectors facing technological disruption (e.g., retail vs. e-commerce) may experience reduced growth forecasts.\\n\\n#### 2. Cost Control\\n   - **Impact**: Rising costs due to inflation, supply chain issues, or increased regulatory compliance can erode profit margins. Investors are likely to reassess companies that cannot maintain cost efficiency.\\n   - **Specifics**: Industries reliant on raw materials and logistics are particularly exposed, affecting overall profitability.\\n\\n#### 3. Risk Concerns\\n   - **Impact**: Market volatility and geopolitical factors can increase perceived risks, leading to a more conservative investment approach. Investors might shift their portfolios toward safer assets.\\n   - **Specifics**: Increased interest rates may lead to higher borrowing costs, affecting companies' financial health and investment attractiveness.\\n\\n### Recommended Actions for Investors\\n\\n#### 1. Growth Strategies\\n   - **Action**: Diversify Investments: Prioritize sectors with emerging growth potential (e.g., tech, green energy) and innovative companies with solid business models.\\n   - **Action**: Regular Assessment: Conduct routine evaluations of portfolio growth projections and adjust based on market analyses and economic forecasts.\\n\\n#### 2. Focus on Cost Efficiency\\n   - **Action**: Analyze Operating Costs: Invest in companies demonstrating strong cost control measures, such as automation and supply chain optimization.\\n   - **Action**: Engage in Advocacy: Encourage portfolio companies to adopt lean management practices and report on cost efficiency metrics regularly.\\n\\n#### 3. Risk Management\\n   - **Action**: Implement Risk Assessment Tools: Utilize advanced analytics to evaluate risks associated with current investments, focusing on stress testing and scenario planning.\\n   - **Action**: Increase Due Diligence: Seek companies with robust contingency plans and those which maintain a diverse supply chain to mitigate risk exposures.\\n\\n### Prioritization of Actions\\n1. **Growth Strategies**: Central to maintaining investor confidence.\\n2. **Cost Control**: Essential for sustained profitability amidst rising costs.\\n3. **Risk Management**: Crucial to navigate market volatility and protect investments.\\n\\n### Conclusion\\nMarket changes pose both challenges and opportunities for investors. By proactively adapting their strategies to focus on growth, cost control, and risk management, investors can better align their portfolios with evolving market dynamics, thereby safeguarding their interests and enhancing returns.\",\n",
       " '# Analysis of Market Changes Impacting Suppliers\\n\\n## Overview\\nSuppliers play a critical role in the supply chain and are directly affected by various market changes. This analysis will focus on three main market pressures: capacity constraints, price pressures, and technology transitions. Each section will outline the specific impacts on suppliers, along with recommended actions to mitigate risks and leverage opportunities.\\n\\n## 1. Capacity Constraints\\n\\n### Specific Impacts\\n- **Production Delays:** Suppliers may struggle to meet demand due to limited manufacturing capacity, leading to delays in delivery schedules.\\n- **Shortages of Raw Materials:** Global supply chain disruptions can limit the availability of essential raw materials, exacerbating capacity issues.\\n- **Increased Order Volatility:** Suppliers might face inconsistent order volumes due to fluctuating demand levels, impacting their operational planning.\\n\\n### Recommended Actions\\n- **Enhance Production Flexibility:** Suppliers should invest in more flexible production processes and equipment that can adapt to varying order sizes and types.\\n- **Diversify Sources of Raw Materials:** Establish relationships with multiple suppliers or local sources to ensure a steady supply chain and reduce vulnerability.\\n- **Implement Advanced Planning Systems:** Utilize demand forecasting tools and inventory management software to optimize order processing and reduce lead times.\\n\\n## 2. Price Pressures\\n\\n### Specific Impacts\\n- **Rising Input Costs:** Increased prices for raw materials, transportation, or energy can erode margins and affect pricing strategies.\\n- **Customer Pushback:** Clients may resist price increases, leading to potential loss of business or profit margins for suppliers.\\n- **Cost Structure Reevaluation:** Suppliers may need to review and optimize their cost structures to maintain competitiveness.\\n\\n### Recommended Actions\\n- **Strategic Pricing Models:** Develop pricing strategies that reflect input cost changes while offering customers value, such as tiered pricing or bundled offers.\\n- **Cost Reduction Initiatives:** Identify areas to reduce waste, improve efficiency, and negotiate better contracts with suppliers or service providers.\\n- **Transparent Communication:** Maintain open communication with clients about price changes and their necessity based on market conditions to foster understanding and collaboration.\\n\\n## 3. Technology Transitions\\n\\n### Specific Impacts\\n- **Adoption of New Technologies:** Suppliers may need to invest significantly in new technologies to stay competitive, which could strain financial resources.\\n- **Skill Gaps:** A transition to advanced technologies may require a workforce skilled in new tools, leading to potential recruitment and training challenges.\\n- **Disruption from Competitors:** Suppliers that fail to adopt relevant technologies risk falling behind as competitors leverage innovations to improve efficiency and product offerings.\\n\\n### Recommended Actions\\n- **Invest in R&D:** Allocate resources to research and development initiatives that keep pace with technological advancements relevant to their products and processes.\\n- **Training and Development Programs:** Establish ongoing training and development programs for employees to bridge skill gaps and enhance capabilities related to new technology.\\n- **Partnerships with Tech Firms:** Collaborate with technology companies or startups to gain insights and support in implementing new solutions effectively.\\n\\n## Conclusion\\nMarket changes in the form of capacity constraints, price pressures, and technological advancements pose significant challenges for suppliers. By proactively addressing these impacts through strategic actions, suppliers can not only mitigate risks but also position themselves favorably for future growth. Prioritizing flexibility, efficiency, investment in technology, and workforce development will be crucial in navigating the evolving market landscape.']"
      ]
     },
     "execution_count": 81,
     "metadata": {},
     "output_type": "execute_result"
    }
   ],
   "source": [
    "analysis"
   ]
  },
  {
   "cell_type": "markdown",
   "id": "81fd5c2a-09d6-456c-99a0-241a53859260",
   "metadata": {},
   "source": [
    "## Parallel Document Analysis\n",
    "Pattern: Parallelization (Sectioning)\n",
    "Project: Build a document analysis tool that divides a legal contract into sections and analyzes each part simultaneously for:\n",
    "\n",
    "- Legal compliance\n",
    "- Risk assessment\n",
    "- Plain language explanations\n",
    "- Suggested improvements"
   ]
  },
  {
   "cell_type": "code",
   "execution_count": 83,
   "id": "ec37bf82-193e-4755-a289-f38b831e43eb",
   "metadata": {},
   "outputs": [],
   "source": []
  },
  {
   "cell_type": "code",
   "execution_count": null,
   "id": "da25c0b8-3e30-4146-918f-f572728a7389",
   "metadata": {},
   "outputs": [],
   "source": [
    "documents"
   ]
  }
 ],
 "metadata": {
  "kernelspec": {
   "display_name": "Python 3 (ipykernel)",
   "language": "python",
   "name": "python3"
  },
  "language_info": {
   "codemirror_mode": {
    "name": "ipython",
    "version": 3
   },
   "file_extension": ".py",
   "mimetype": "text/x-python",
   "name": "python",
   "nbconvert_exporter": "python",
   "pygments_lexer": "ipython3",
   "version": "3.11.11"
  }
 },
 "nbformat": 4,
 "nbformat_minor": 5
}
